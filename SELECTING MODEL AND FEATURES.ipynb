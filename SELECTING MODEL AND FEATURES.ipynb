{
 "cells": [
  {
   "cell_type": "markdown",
   "metadata": {},
   "source": [
    "                                        #### Project 4\n",
    "# Regression Models on College Data\n",
    "\n",
    "_Author: Alex Chicote (NYC)_\n",
    "\n",
    "---\n",
    "<img src=\"./pexels-photo-356086.jpeg\" style=\"float: center; margin: 20px; height: 300px\">\n",
    "\n",
    "                                            What are the most important features that define\n",
    "                                            college tuition in the US?\n",
    "        "
   ]
  },
  {
   "cell_type": "markdown",
   "metadata": {},
   "source": [
    "## Plan of Action\n",
    "\n",
    "### Steps:\n",
    "\n",
    "\n",
    "\n",
    "   - [1. Importing all the modules and dataframes from Notebook(AChicote-Project-3-NB-1-EDA).](#importing)\n",
    "   - [2. Finding the baseline (score to beat).](#baseline)\n",
    "   - [3. Some plotting to understand better our dataset.](#plotting)\n",
    "   - [4. Exposition of strategy.](#strategy)\n",
    "   - [5. Selecting features and running models.](#models)\n",
    "   - [6. Evaluating the model and some more plotting.](#analysis)\n",
    "   - [7. Next steps.](#steps)\n",
    "   "
   ]
  },
  {
   "cell_type": "markdown",
   "metadata": {},
   "source": [
    "<a id='importing'></a>"
   ]
  },
  {
   "cell_type": "code",
   "execution_count": 17,
   "metadata": {
    "collapsed": true
   },
   "outputs": [],
   "source": [
    "import pandas as pd\n",
    "import requests\n",
    "import json\n",
    "import pickle\n",
    "import numpy as np\n",
    "import seaborn as sns\n",
    "import matplotlib.pyplot as plt\n",
    "from sklearn.metrics import mean_squared_error\n",
    "from sklearn.linear_model import LinearRegression, LogisticRegressionCV, LassoCV, RidgeCV, LogisticRegression\n",
    "from sklearn.model_selection import GridSearchCV, train_test_split, cross_val_predict, cross_val_score\n",
    "from sklearn.feature_selection import rfe, SelectKBest, f_classif, f_regression\n",
    "from sklearn.preprocessing import StandardScaler\n",
    "from sklearn.ensemble import GradientBoostingRegressor, RandomForestRegressor, AdaBoostRegressor\n",
    "from sklearn.tree import DecisionTreeRegressor\n",
    "from sklearn.svm import SVR\n",
    "%matplotlib inline"
   ]
  },
  {
   "cell_type": "markdown",
   "metadata": {},
   "source": [
    "## Recover dataframe"
   ]
  },
  {
   "cell_type": "code",
   "execution_count": 18,
   "metadata": {},
   "outputs": [
    {
     "data": {
      "text/plain": [
       "(6604, 185)"
      ]
     },
     "execution_count": 18,
     "metadata": {},
     "output_type": "execute_result"
    }
   ],
   "source": [
    "data = pd.read_csv('df_final.csv')\n",
    "\n",
    "data.shape"
   ]
  },
  {
   "cell_type": "code",
   "execution_count": 6,
   "metadata": {},
   "outputs": [
    {
     "data": {
      "text/html": [
       "<div>\n",
       "<style>\n",
       "    .dataframe thead tr:only-child th {\n",
       "        text-align: right;\n",
       "    }\n",
       "\n",
       "    .dataframe thead th {\n",
       "        text-align: left;\n",
       "    }\n",
       "\n",
       "    .dataframe tbody tr th {\n",
       "        vertical-align: top;\n",
       "    }\n",
       "</style>\n",
       "<table border=\"1\" class=\"dataframe\">\n",
       "  <thead>\n",
       "    <tr style=\"text-align: right;\">\n",
       "      <th></th>\n",
       "      <th>id</th>\n",
       "      <th>alias</th>\n",
       "      <th>branches</th>\n",
       "      <th>carnegie_basic</th>\n",
       "      <th>carnegie_size_setting</th>\n",
       "      <th>carnegie_undergrad</th>\n",
       "      <th>degrees_awarded.highest</th>\n",
       "      <th>degrees_awarded.predominant</th>\n",
       "      <th>faculty_salary</th>\n",
       "      <th>ft_faculty_rate</th>\n",
       "      <th>...</th>\n",
       "      <th>state_fips_55</th>\n",
       "      <th>state_fips_56</th>\n",
       "      <th>state_fips_60</th>\n",
       "      <th>state_fips_64</th>\n",
       "      <th>state_fips_66</th>\n",
       "      <th>state_fips_68</th>\n",
       "      <th>state_fips_69</th>\n",
       "      <th>state_fips_70</th>\n",
       "      <th>state_fips_72</th>\n",
       "      <th>state_fips_78</th>\n",
       "    </tr>\n",
       "  </thead>\n",
       "  <tbody>\n",
       "    <tr>\n",
       "      <th>0</th>\n",
       "      <td>412003</td>\n",
       "      <td>0</td>\n",
       "      <td>1</td>\n",
       "      <td>10.0</td>\n",
       "      <td>1.0</td>\n",
       "      <td>3.0</td>\n",
       "      <td>2</td>\n",
       "      <td>1</td>\n",
       "      <td>1551.000000</td>\n",
       "      <td>0.564079</td>\n",
       "      <td>...</td>\n",
       "      <td>0</td>\n",
       "      <td>0</td>\n",
       "      <td>0</td>\n",
       "      <td>0</td>\n",
       "      <td>0</td>\n",
       "      <td>0</td>\n",
       "      <td>0</td>\n",
       "      <td>0</td>\n",
       "      <td>0</td>\n",
       "      <td>0</td>\n",
       "    </tr>\n",
       "    <tr>\n",
       "      <th>1</th>\n",
       "      <td>443058</td>\n",
       "      <td>1</td>\n",
       "      <td>1</td>\n",
       "      <td>24.0</td>\n",
       "      <td>7.0</td>\n",
       "      <td>11.0</td>\n",
       "      <td>3</td>\n",
       "      <td>3</td>\n",
       "      <td>667.000000</td>\n",
       "      <td>0.564079</td>\n",
       "      <td>...</td>\n",
       "      <td>0</td>\n",
       "      <td>0</td>\n",
       "      <td>0</td>\n",
       "      <td>0</td>\n",
       "      <td>0</td>\n",
       "      <td>0</td>\n",
       "      <td>0</td>\n",
       "      <td>0</td>\n",
       "      <td>0</td>\n",
       "      <td>0</td>\n",
       "    </tr>\n",
       "    <tr>\n",
       "      <th>2</th>\n",
       "      <td>443225</td>\n",
       "      <td>0</td>\n",
       "      <td>2</td>\n",
       "      <td>-3.0</td>\n",
       "      <td>-2.0</td>\n",
       "      <td>-2.0</td>\n",
       "      <td>1</td>\n",
       "      <td>1</td>\n",
       "      <td>6235.119579</td>\n",
       "      <td>0.564079</td>\n",
       "      <td>...</td>\n",
       "      <td>0</td>\n",
       "      <td>0</td>\n",
       "      <td>0</td>\n",
       "      <td>0</td>\n",
       "      <td>0</td>\n",
       "      <td>0</td>\n",
       "      <td>0</td>\n",
       "      <td>0</td>\n",
       "      <td>0</td>\n",
       "      <td>0</td>\n",
       "    </tr>\n",
       "    <tr>\n",
       "      <th>3</th>\n",
       "      <td>443252</td>\n",
       "      <td>0</td>\n",
       "      <td>1</td>\n",
       "      <td>-3.0</td>\n",
       "      <td>-2.0</td>\n",
       "      <td>-2.0</td>\n",
       "      <td>1</td>\n",
       "      <td>1</td>\n",
       "      <td>6235.119579</td>\n",
       "      <td>0.564079</td>\n",
       "      <td>...</td>\n",
       "      <td>0</td>\n",
       "      <td>0</td>\n",
       "      <td>0</td>\n",
       "      <td>0</td>\n",
       "      <td>0</td>\n",
       "      <td>0</td>\n",
       "      <td>0</td>\n",
       "      <td>0</td>\n",
       "      <td>0</td>\n",
       "      <td>0</td>\n",
       "    </tr>\n",
       "    <tr>\n",
       "      <th>4</th>\n",
       "      <td>443261</td>\n",
       "      <td>1</td>\n",
       "      <td>1</td>\n",
       "      <td>-3.0</td>\n",
       "      <td>-2.0</td>\n",
       "      <td>-2.0</td>\n",
       "      <td>1</td>\n",
       "      <td>1</td>\n",
       "      <td>6235.119579</td>\n",
       "      <td>0.564079</td>\n",
       "      <td>...</td>\n",
       "      <td>0</td>\n",
       "      <td>0</td>\n",
       "      <td>0</td>\n",
       "      <td>0</td>\n",
       "      <td>0</td>\n",
       "      <td>0</td>\n",
       "      <td>0</td>\n",
       "      <td>0</td>\n",
       "      <td>0</td>\n",
       "      <td>0</td>\n",
       "    </tr>\n",
       "  </tbody>\n",
       "</table>\n",
       "<p>5 rows × 185 columns</p>\n",
       "</div>"
      ],
      "text/plain": [
       "       id  alias  branches  carnegie_basic  carnegie_size_setting  \\\n",
       "0  412003      0         1            10.0                    1.0   \n",
       "1  443058      1         1            24.0                    7.0   \n",
       "2  443225      0         2            -3.0                   -2.0   \n",
       "3  443252      0         1            -3.0                   -2.0   \n",
       "4  443261      1         1            -3.0                   -2.0   \n",
       "\n",
       "   carnegie_undergrad  degrees_awarded.highest  degrees_awarded.predominant  \\\n",
       "0                 3.0                        2                            1   \n",
       "1                11.0                        3                            3   \n",
       "2                -2.0                        1                            1   \n",
       "3                -2.0                        1                            1   \n",
       "4                -2.0                        1                            1   \n",
       "\n",
       "   faculty_salary  ft_faculty_rate      ...        state_fips_55  \\\n",
       "0     1551.000000         0.564079      ...                    0   \n",
       "1      667.000000         0.564079      ...                    0   \n",
       "2     6235.119579         0.564079      ...                    0   \n",
       "3     6235.119579         0.564079      ...                    0   \n",
       "4     6235.119579         0.564079      ...                    0   \n",
       "\n",
       "   state_fips_56  state_fips_60  state_fips_64  state_fips_66  state_fips_68  \\\n",
       "0              0              0              0              0              0   \n",
       "1              0              0              0              0              0   \n",
       "2              0              0              0              0              0   \n",
       "3              0              0              0              0              0   \n",
       "4              0              0              0              0              0   \n",
       "\n",
       "   state_fips_69  state_fips_70  state_fips_72  state_fips_78  \n",
       "0              0              0              0              0  \n",
       "1              0              0              0              0  \n",
       "2              0              0              0              0  \n",
       "3              0              0              0              0  \n",
       "4              0              0              0              0  \n",
       "\n",
       "[5 rows x 185 columns]"
      ]
     },
     "execution_count": 6,
     "metadata": {},
     "output_type": "execute_result"
    }
   ],
   "source": [
    "data.head()"
   ]
  },
  {
   "cell_type": "markdown",
   "metadata": {},
   "source": [
    "<a id='baseline'></a>\n",
    "# BASELINE =  7586.41"
   ]
  },
  {
   "cell_type": "code",
   "execution_count": 19,
   "metadata": {},
   "outputs": [
    {
     "name": "stdout",
     "output_type": "stream",
     "text": [
      "7586.41376138\n"
     ]
    }
   ],
   "source": [
    "##Baseline\n",
    "data['mean'] = data['cost'].mean()\n",
    "\n",
    "y_test = data['cost'].values\n",
    "prediction_mean = data['mean'].values\n",
    "baseline = np.sqrt(mean_squared_error(y_test, prediction_mean))\n",
    "print(baseline)"
   ]
  },
  {
   "cell_type": "markdown",
   "metadata": {},
   "source": [
    "<a id='plotting'></a>\n",
    "# Plotting"
   ]
  },
  {
   "cell_type": "code",
   "execution_count": 8,
   "metadata": {},
   "outputs": [
    {
     "data": {
      "image/png": "[encoded data removed]",
      "text/plain": [
       "<matplotlib.figure.Figure at 0x115fae630>"
      ]
     },
     "metadata": {},
     "output_type": "display_data"
    }
   ],
   "source": [
    "## ownership seems to me like a good feature\n",
    "plt.subplots(figsize=(6,6))\n",
    "plt.bar(data['ownership'], data['cost'], color='y')\n",
    "plt.xlabel('Private/Public')\n",
    "plt.title('Variable Importance')\n",
    "plt.show()"
   ]
  },
  {
   "cell_type": "code",
   "execution_count": 96,
   "metadata": {},
   "outputs": [
    {
     "data": {
      "image/png": "[encoded data removed]",
      "text/plain": [
       "<matplotlib.figure.Figure at 0x12064b908>"
      ]
     },
     "metadata": {},
     "output_type": "display_data"
    }
   ],
   "source": [
    "plt.subplots(figsize=(6,6))\n",
    "#plt.scatter(data['tuition_revenue_per_fte'], y,color='b')\n",
    "plt.scatter(data['carnegie_basic'], data['cost'], color='y')\n",
    "plt.xlabel('carnegie basic')\n",
    "plt.title('Variable Importance')\n",
    "plt.show()"
   ]
  },
  {
   "cell_type": "code",
   "execution_count": 97,
   "metadata": {},
   "outputs": [
    {
     "data": {
      "text/plain": [
       "array([[<matplotlib.axes._subplots.AxesSubplot object at 0x1207b0ba8>,\n",
       "        <matplotlib.axes._subplots.AxesSubplot object at 0x128a071d0>]], dtype=object)"
      ]
     },
     "execution_count": 97,
     "metadata": {},
     "output_type": "execute_result"
    },
    {
     "data": {
      "image/png": "[encoded data removed]",
      "text/plain": [
       "<matplotlib.figure.Figure at 0x12733d2b0>"
      ]
     },
     "metadata": {},
     "output_type": "display_data"
    }
   ],
   "source": [
    "X_train.hist(column=['ownership', 'carnegie_undergrad'])\n"
   ]
  },
  {
   "cell_type": "markdown",
   "metadata": {},
   "source": [
    "<a id='strategy'></a>\n",
    "\n",
    "## This dataset has many similarities with Ames Dataset:\n",
    "\n",
    "    1. There the target was the sale price of real estate, while now is the tuition/cost of colleges.\n",
    "    2. There are a big amount of features as there are in Ames IO -including dummies.\n",
    "    3. This is why I will use the same metric: RMSE (Root Mean Squared Error).\n",
    "    4. I will focus in the model that worked better: Gradient Boosting Regressor.\n",
    "    5. Use of all viable features to start.\n",
    "    6. Repeat the process while filtering (eliminating features until reaching the score.\n",
    "    7. Evaluating the final model and plotting it.\n"
   ]
  },
  {
   "cell_type": "markdown",
   "metadata": {},
   "source": [
    "<a id='models'></a>\n",
    "## Selecting features with correlation"
   ]
  },
  {
   "cell_type": "code",
   "execution_count": 20,
   "metadata": {},
   "outputs": [
    {
     "data": {
      "text/plain": [
       "Index(['carnegie_undergrad', 'open_admissions_policy',\n",
       "       'degrees_awarded.highest', 'carnegie_basic'],\n",
       "      dtype='object')"
      ]
     },
     "execution_count": 20,
     "metadata": {},
     "output_type": "execute_result"
    }
   ],
   "source": [
    "correlation = data.corr()['cost'].apply(lambda x: abs(x)).sort_values(ascending=False)[1:6]\n",
    "correlation\n",
    "\n",
    "correlation_list = (correlation.index)[1:]\n",
    "correlation_list"
   ]
  },
  {
   "cell_type": "code",
   "execution_count": 21,
   "metadata": {
    "collapsed": true
   },
   "outputs": [],
   "source": [
    "valid_columns = [c for c in data.columns if c not in ['cost', 'id', 'title_iv.approval_date', 'mean']]\n",
    "y = data['cost']\n",
    "X = data[valid_columns]\n",
    "\n",
    "X_train, X_test, y_train, y_test = train_test_split(X,y, test_size=0.25)\n",
    "\n",
    "X_train.shape, X_test.shape, y_train.shape, y_test.shape\n",
    "\n",
    "ss = StandardScaler()\n",
    "Xs_train = ss.fit_transform(X_train)\n",
    "Xs_test = ss.fit_transform(X_test)"
   ]
  },
  {
   "cell_type": "markdown",
   "metadata": {},
   "source": [
    "## Selecting features with regularization while running first model"
   ]
  },
  {
   "cell_type": "code",
   "execution_count": 27,
   "metadata": {},
   "outputs": [
    {
     "name": "stdout",
     "output_type": "stream",
     "text": [
      "best score 0.572772635819\n",
      "best params {}\n",
      "test score 0.5830739354\n",
      "5051.97253738\n"
     ]
    }
   ],
   "source": [
    "lr = LassoCV()\n",
    "lr_params = {}\n",
    "lr_model = GridSearchCV(lr, param_grid=lr_params)\n",
    "lr_model.fit(Xs_train, y_train)\n",
    "print('best score', lr_model.best_score_)\n",
    "print('best params', lr_model.best_params_)\n",
    "print('test score', lr_model.score(Xs_test, y_test))\n",
    "predictions = lr_model.predict(Xs_test)\n",
    "RMSE = np.sqrt(mean_squared_error(y_test, predictions))\n",
    "print(RMSE)\n",
    "first_try = RMSE"
   ]
  },
  {
   "cell_type": "code",
   "execution_count": 25,
   "metadata": {},
   "outputs": [
    {
     "data": {
      "text/plain": [
       "['ownership', 'carnegie_undergrad', 'NACCAS', 'state_fips_72', 'AARTS']"
      ]
     },
     "execution_count": 25,
     "metadata": {},
     "output_type": "execute_result"
    }
   ],
   "source": [
    "coeff_lasso = list(zip(valid_columns, lr_model.best_estimator_.coef_))\n",
    "coeff_lasso.sort(key=lambda x: abs(x[1]))\n",
    "coeff_lasso.reverse()\n",
    "coeff_lasso[0:5]\n",
    "\n",
    "feature_name_lasso, coefficients_lasso = [list(c) for c in zip(*coeff_lasso)]\n",
    "feature_name_lasso[0:5], coefficients_lasso[0:5]\n",
    "\n",
    "absoluts_coeff = [abs(k) for k in coefficients_lasso[0:5]]\n",
    "\n",
    "feature_name_lasso[0:5]"
   ]
  },
  {
   "cell_type": "markdown",
   "metadata": {},
   "source": [
    "## Analyzing first model results"
   ]
  },
  {
   "cell_type": "code",
   "execution_count": 26,
   "metadata": {},
   "outputs": [
    {
     "data": {
      "image/png": "[encoded data removed]",
      "text/plain": [
       "<matplotlib.figure.Figure at 0x1201ca5f8>"
      ]
     },
     "metadata": {},
     "output_type": "display_data"
    }
   ],
   "source": [
    "feature_importance = absoluts_coeff[0:5]\n",
    "feature_importance = 100.0 * (feature_importance / max(feature_importance))\n",
    "sorted_idx = np.argsort(feature_importance)\n",
    "pos = np.arange(sorted_idx.shape[0]) + .5\n",
    "\n",
    "llista =['Private/Public', 'Carnegie Undergraduate',\\\n",
    "         'The National Accrediting Commission of Career Arts and Sciences (NACCAS)',\\\n",
    "         'The Association of Advanced Rabbinical and Talmudic Schools (AARTS)',\\\n",
    "        \"Region\"]\n",
    "plt.subplots(figsize=(5,8))\n",
    "plt.barh(pos, feature_importance[sorted_idx], align='center',color='g')\n",
    "plt.yticks(pos, llista[::-1], fontsize =15)\n",
    "plt.xlabel('Relative Importance')\n",
    "plt.title('Variable Importance')\n",
    "plt.show()"
   ]
  },
  {
   "cell_type": "markdown",
   "metadata": {},
   "source": [
    "<a id='analysis'></a>\n",
    "## Best model obtained. Its analysis"
   ]
  },
  {
   "cell_type": "code",
   "execution_count": 28,
   "metadata": {},
   "outputs": [
    {
     "name": "stdout",
     "output_type": "stream",
     "text": [
      "best score 0.624354138779\n",
      "best params {'max_depth': 3, 'max_features': 'auto', 'n_estimators': 275}\n",
      "test score 0.640942342527\n",
      "gbc 4688.28014174\n"
     ]
    }
   ],
   "source": [
    "gbc = GradientBoostingRegressor()\n",
    "gbc_params = {'n_estimators': [175, 200, 225, 250, 275], 'max_features': ['auto', 'log2', None], 'max_depth': range(1,4)}\n",
    "gbc_model = GridSearchCV(gbc, param_grid=gbc_params)\n",
    "gbc_model.fit(Xs_train, y_train)\n",
    "print('best score', gbc_model.best_score_)\n",
    "print('best params', gbc_model.best_params_)\n",
    "print('test score', gbc_model.score(Xs_test, y_test))\n",
    "predictions = gbc_model.predict(Xs_test)\n",
    "#prediction = gbc_model.predict(XTs)\n",
    "#test['SalePrice'] = prediction\n",
    "RMSE = np.sqrt(mean_squared_error(y_test, predictions))\n",
    "print('gbc', RMSE)\n",
    "second_try = RMSE"
   ]
  },
  {
   "cell_type": "code",
   "execution_count": 111,
   "metadata": {},
   "outputs": [
    {
     "data": {
      "text/plain": [
       "[('instructional_expenditure_per_fte', 0.10720690529744924),\n",
       " ('seniority', 0.086310366838724423),\n",
       " ('faculty_salary', 0.071936039962064713),\n",
       " ('ownership', 0.066380822302487943),\n",
       " ('branches', 0.054714420426868048)]"
      ]
     },
     "execution_count": 111,
     "metadata": {},
     "output_type": "execute_result"
    }
   ],
   "source": [
    "fea_imp = list(zip(valid_columns, gbc_model.best_estimator_.feature_importances_))\n",
    "fea_imp.sort(key=lambda x: abs(x[1]))\n",
    "fea_imp.reverse()\n",
    "fea_imp[0:5]"
   ]
  },
  {
   "cell_type": "code",
   "execution_count": 112,
   "metadata": {},
   "outputs": [
    {
     "data": {
      "text/plain": [
       "(['instructional_expenditure_per_fte',\n",
       "  'seniority',\n",
       "  'faculty_salary',\n",
       "  'ownership',\n",
       "  'branches'],\n",
       " [0.10720690529744924,\n",
       "  0.086310366838724423,\n",
       "  0.071936039962064713,\n",
       "  0.066380822302487943,\n",
       "  0.054714420426868048])"
      ]
     },
     "execution_count": 112,
     "metadata": {},
     "output_type": "execute_result"
    }
   ],
   "source": [
    "feature_name, feature_importance = [list(c) for c in zip(*fea_imp)]\n",
    "feature_name[0:5], feature_importance[0:5]"
   ]
  },
  {
   "cell_type": "code",
   "execution_count": 114,
   "metadata": {},
   "outputs": [
    {
     "data": {
      "image/png": "[encoded data removed]",
      "text/plain": [
       "<matplotlib.figure.Figure at 0x128adc6a0>"
      ]
     },
     "metadata": {},
     "output_type": "display_data"
    }
   ],
   "source": [
    "feature_importance = feature_importance[:5]\n",
    "# make importances relative to max importance\n",
    "feature_importance = 100.0 * (feature_importance / max(feature_importance))\n",
    "sorted_idx = np.argsort(feature_importance)\n",
    "pos = np.arange(sorted_idx.shape[0]) + .5\n",
    "llista_gbc =['Instructional Expense per fulltime employee', 'Seniority Of College','Faculty Salary',\\\n",
    "             'Private/Public','Branches']\n",
    "\n",
    "plt.subplots(figsize=(5,10))\n",
    "plt.barh(pos, feature_importance[sorted_idx], align='center',color='g')\n",
    "plt.yticks(pos, llista_gbc[::-1], fontsize =20)\n",
    "plt.xlabel('Relative Importance')\n",
    "plt.title('Variable Importance')\n",
    "plt.show()"
   ]
  },
  {
   "cell_type": "code",
   "execution_count": 137,
   "metadata": {},
   "outputs": [
    {
     "data": {
      "text/plain": [
       "GradientBoostingRegressor(alpha=0.9, criterion='friedman_mse', init=None,\n",
       "             learning_rate=0.1, loss='ls', max_depth=3,\n",
       "             max_features='log2', max_leaf_nodes=None,\n",
       "             min_impurity_split=1e-07, min_samples_leaf=1,\n",
       "             min_samples_split=2, min_weight_fraction_leaf=0.0,\n",
       "             n_estimators=225, presort='auto', random_state=None,\n",
       "             subsample=1.0, verbose=0, warm_start=False)"
      ]
     },
     "execution_count": 137,
     "metadata": {},
     "output_type": "execute_result"
    }
   ],
   "source": [
    "gbc =GradientBoostingRegressor(max_depth=3, max_features='log2', n_estimators=225)\n",
    "gbc.fit(Xs_train, y_train)"
   ]
  },
  {
   "cell_type": "code",
   "execution_count": 138,
   "metadata": {},
   "outputs": [
    {
     "data": {
      "image/png": "[encoded data removed]",
      "text/plain": [
       "<matplotlib.figure.Figure at 0x121a4c588>"
      ]
     },
     "metadata": {},
     "output_type": "display_data"
    }
   ],
   "source": [
    "# sort importances\n",
    "indices = np.argsort(gbc.feature_importances_[0:10])\n",
    "# plot as bar chart\n",
    "plt.barh(np.arange(len(feature_name[0:10])), gbc.feature_importances_[indices])\n",
    "plt.yticks(np.arange(len(feature_name[0:10])) + 0.25, np.array(valid_columns)[indices])\n",
    "_ = plt.xlabel('Relative importance')"
   ]
  },
  {
   "cell_type": "code",
   "execution_count": 141,
   "metadata": {},
   "outputs": [
    {
     "data": {
      "image/png": "[encoded data removed]",
      "text/plain": [
       "<matplotlib.figure.Figure at 0x1208204a8>"
      ]
     },
     "metadata": {},
     "output_type": "display_data"
    }
   ],
   "source": [
    "from sklearn.ensemble.partial_dependence import plot_partial_dependence\n",
    "\n",
    "features = ['region_id', 'state_fips_72', 'NCACHE', 'NACCAS',\n",
    "            ('AveOccup', 'HouseAge')]\n",
    "fig, axs = plot_partial_dependence(gbc, Xs_train, feature_name[0:4], \n",
    "                                   feature_names= feature_name[0:4], figsize=(8, 8))"
   ]
  },
  {
   "cell_type": "code",
   "execution_count": 142,
   "metadata": {},
   "outputs": [
    {
     "data": {
      "text/plain": [
       "<matplotlib.text.Text at 0x121ac13c8>"
      ]
     },
     "execution_count": 142,
     "metadata": {},
     "output_type": "execute_result"
    },
    {
     "data": {
      "image/png": "[encoded data removed]",
      "text/plain": [
       "<matplotlib.figure.Figure at 0x128b0c400>"
      ]
     },
     "metadata": {},
     "output_type": "display_data"
    }
   ],
   "source": [
    "test_score = np.zeros(225, dtype=np.float64)\n",
    "\n",
    "for i, y_pred in enumerate(gbc.staged_predict(Xs_test)):\n",
    "    test_score[i] = gbc.loss_(y_test, y_pred)\n",
    "\n",
    "plt.figure(figsize=(12, 6))\n",
    "plt.subplot(1, 2, 1)\n",
    "plt.title('Deviance')\n",
    "plt.plot(np.arange(225), gbc.train_score_, 'b-',\n",
    "         label='Training Set Deviance')\n",
    "plt.plot(np.arange(225), test_score, 'r-',\n",
    "         label='Test Set Deviance')\n",
    "plt.legend(loc='upper right')\n",
    "plt.xlabel('Boosting Iterations')\n",
    "plt.ylabel('Deviance')"
   ]
  },
  {
   "cell_type": "code",
   "execution_count": 29,
   "metadata": {},
   "outputs": [
    {
     "data": {
      "image/png": "[encoded data removed]",
      "text/plain": [
       "<matplotlib.figure.Figure at 0x1162e3cc0>"
      ]
     },
     "metadata": {},
     "output_type": "display_data"
    }
   ],
   "source": [
    "objects = ('Baseline', 'LassoCV', 'Gradient Boosting')\n",
    "y_pos = np.arange(len(objects))\n",
    "performance = [baseline,first_try,second_try]\n",
    " \n",
    "plt.bar(y_pos, performance, align='center', alpha=0.5)\n",
    "plt.xticks(y_pos, objects)\n",
    "plt.ylabel('Error', fontsize=20)\n",
    "plt.title('Reducing the error', fontsize=25)\n",
    " \n",
    "plt.show()"
   ]
  },
  {
   "cell_type": "markdown",
   "metadata": {},
   "source": [
    "<a id='steps'></a>\n",
    "### Steps:\n",
    "\n",
    "\n",
    "\n",
    "   - [1. Use SelectKBest and Rfe for feature selection.](#othermodels)\n",
    "   - [2. Run other models just in case. I actually did in part and only SVR showed some similar results).](#baseline)\n",
    "   - [3. I did some of it but never got to better prediction. Reducing features to avoid overfitting](#plotting)\n",
    "   - [4. My RMSE scored has been fluctuating a lot everytime I run it which suggest overfitting.](#demames)"
   ]
  },
  {
   "cell_type": "code",
   "execution_count": 164,
   "metadata": {},
   "outputs": [
    {
     "name": "stdout",
     "output_type": "stream",
     "text": [
      "Fitting estimator with 182 features.\n",
      "Fitting estimator with 181 features.\n",
      "Fitting estimator with 180 features.\n",
      "Fitting estimator with 179 features.\n",
      "Fitting estimator with 178 features.\n",
      "Fitting estimator with 177 features.\n",
      "Fitting estimator with 176 features.\n",
      "Fitting estimator with 175 features.\n",
      "Fitting estimator with 174 features.\n",
      "Fitting estimator with 173 features.\n",
      "Fitting estimator with 172 features.\n",
      "Fitting estimator with 171 features.\n",
      "Fitting estimator with 170 features.\n",
      "Fitting estimator with 169 features.\n",
      "Fitting estimator with 168 features.\n",
      "Fitting estimator with 167 features.\n",
      "Fitting estimator with 166 features.\n",
      "Fitting estimator with 165 features.\n",
      "Fitting estimator with 164 features.\n",
      "Fitting estimator with 163 features.\n",
      "Fitting estimator with 162 features.\n",
      "Fitting estimator with 161 features.\n",
      "Fitting estimator with 160 features.\n",
      "Fitting estimator with 159 features.\n",
      "Fitting estimator with 158 features.\n",
      "Fitting estimator with 157 features.\n",
      "Fitting estimator with 156 features.\n",
      "Fitting estimator with 155 features.\n",
      "Fitting estimator with 154 features.\n",
      "Fitting estimator with 153 features.\n",
      "Fitting estimator with 152 features.\n",
      "Fitting estimator with 151 features.\n",
      "Fitting estimator with 150 features.\n",
      "Fitting estimator with 149 features.\n",
      "Fitting estimator with 148 features.\n",
      "Fitting estimator with 147 features.\n",
      "Fitting estimator with 146 features.\n",
      "Fitting estimator with 145 features.\n",
      "Fitting estimator with 144 features.\n",
      "Fitting estimator with 143 features.\n",
      "Fitting estimator with 142 features.\n",
      "Fitting estimator with 141 features.\n",
      "Fitting estimator with 140 features.\n",
      "Fitting estimator with 139 features.\n",
      "Fitting estimator with 138 features.\n",
      "Fitting estimator with 137 features.\n",
      "Fitting estimator with 136 features.\n",
      "Fitting estimator with 135 features.\n",
      "Fitting estimator with 134 features.\n",
      "Fitting estimator with 133 features.\n",
      "Fitting estimator with 132 features.\n",
      "Fitting estimator with 131 features.\n",
      "Fitting estimator with 130 features.\n",
      "Fitting estimator with 129 features.\n",
      "Fitting estimator with 128 features.\n",
      "Fitting estimator with 127 features.\n",
      "Fitting estimator with 126 features.\n",
      "Fitting estimator with 125 features.\n",
      "Fitting estimator with 124 features.\n",
      "Fitting estimator with 123 features.\n",
      "Fitting estimator with 122 features.\n",
      "Fitting estimator with 121 features.\n",
      "Fitting estimator with 120 features.\n",
      "Fitting estimator with 119 features.\n",
      "Fitting estimator with 118 features.\n",
      "Fitting estimator with 117 features.\n",
      "Fitting estimator with 116 features.\n",
      "Fitting estimator with 115 features.\n",
      "Fitting estimator with 114 features.\n",
      "Fitting estimator with 113 features.\n",
      "Fitting estimator with 112 features.\n",
      "Fitting estimator with 111 features.\n",
      "Fitting estimator with 110 features.\n",
      "Fitting estimator with 109 features.\n",
      "Fitting estimator with 108 features.\n",
      "Fitting estimator with 107 features.\n",
      "Fitting estimator with 106 features.\n",
      "Fitting estimator with 105 features.\n",
      "Fitting estimator with 104 features.\n",
      "Fitting estimator with 103 features.\n",
      "Fitting estimator with 102 features.\n",
      "Fitting estimator with 101 features.\n"
     ]
    },
    {
     "data": {
      "text/plain": [
       "RFE(estimator=LinearRegression(copy_X=True, fit_intercept=True, n_jobs=1, normalize=False),\n",
       "  n_features_to_select=100, step=1, verbose=1)"
      ]
     },
     "execution_count": 164,
     "metadata": {},
     "output_type": "execute_result"
    }
   ],
   "source": [
    "lr = LinearRegression()\n",
    "rfe = RFE(lr, verbose=1, n_features_to_select=100)\n",
    "\n",
    "rfe.fit(Xs_train, y_train)"
   ]
  },
  {
   "cell_type": "code",
   "execution_count": 120,
   "metadata": {},
   "outputs": [
    {
     "name": "stdout",
     "output_type": "stream",
     "text": [
      "best score 0.463437658164\n",
      "best params {'loss': 'exponential', 'n_estimators': 25}\n",
      "test score 0.452752159978\n",
      "5597.19920782\n",
      "best score -1.98158583139e+27\n",
      "best params {}\n",
      "test score -2.49701243369e+22\n",
      "1.19560876006e+15\n",
      "best score 0.574069967252\n",
      "best params {'C': 39, 'kernel': 'linear'}\n",
      "test score 0.552033763474\n",
      "5064.08955232\n"
     ]
    }
   ],
   "source": [
    "##AdaBoost\n",
    "ada = AdaBoostRegressor()\n",
    "ada_params = {'n_estimators': [25, 50, 75],\n",
    "             'loss': ['linear', 'square', 'exponential']}\n",
    "ada_model = GridSearchCV(ada, param_grid=ada_params)\n",
    "ada_model.fit(Xs_train, y_train)\n",
    "print('best score', ada_model.best_score_)\n",
    "print('best params', ada_model.best_params_)\n",
    "print('test score', ada_model.score(Xs_test, y_test))\n",
    "predictions = ada_model.predict(Xs_test)\n",
    "RMSE = np.sqrt(mean_squared_error(y_test, predictions))\n",
    "print(RMSE)\n",
    "\n",
    "##LinearRegression\n",
    "lr = LinearRegression()\n",
    "lr_params = {}\n",
    "lr_model = GridSearchCV(lr, param_grid=lr_params)\n",
    "lr_model.fit(Xs_train, y_train)\n",
    "print('best score', lr_model.best_score_)\n",
    "print('best params', lr_model.best_params_)\n",
    "print('test score', lr_model.score(Xs_test, y_test))\n",
    "predictions = lr_model.predict(Xs_test)\n",
    "RMSE = np.sqrt(mean_squared_error(y_test, predictions))\n",
    "print(RMSE)\n",
    "##Ridge\n",
    "\n",
    "\n",
    "svm = SVR()\n",
    "\n",
    "svm_params = {'C': range(20,40),\n",
    "             'kernel': ['linear', 'poly', 'rbf']}\n",
    "svm_model = GridSearchCV(svm, param_grid=svm_params)\n",
    "svm_model.fit(Xs_train, y_train)\n",
    "print('best score', svm_model.best_score_)\n",
    "print('best params', svm_model.best_params_)\n",
    "print('test score', svm_model.score(Xs_test, y_test))\n",
    "predictions = svm_model.predict(Xs_test)\n",
    "RMSE = np.sqrt(mean_squared_error(y_test, predictions))\n",
    "print(RMSE)"
   ]
  },
  {
   "cell_type": "markdown",
   "metadata": {},
   "source": [
    "## Going back to gbc"
   ]
  },
  {
   "cell_type": "markdown",
   "metadata": {},
   "source": [
    "## I will select some features"
   ]
  },
  {
   "cell_type": "code",
   "execution_count": 123,
   "metadata": {},
   "outputs": [
    {
     "data": {
      "text/plain": [
       "Index(['carnegie_undergrad', 'open_admissions_policy',\n",
       "       'degrees_awarded.highest', 'carnegie_basic', 'locale',\n",
       "       'institutional_characteristics.level', 'carnegie_basic_2.0',\n",
       "       'degrees_awarded.predominant', 'main_campus', 'carnegie_basic_30.0',\n",
       "       'carnegie_size_setting', 'branches', 'minority_serving.hispanic',\n",
       "       'region_id_9', 'state_fips_72', 'instructional_expenditure_per_fte',\n",
       "       'NACCAS', 'religious_affiliation', 'locale_11.0', 'carnegie_basic_10.0',\n",
       "       'carnegie_basic_7.0', 'carnegie_basic_3.0', 'carnegie_basic_21.0',\n",
       "       'ACICS', 'locale_41.0', 'WASCJC', 'carnegie_basic_4.0',\n",
       "       'carnegie_basic_1.0', 'region_id', 'carnegie_basic_5.0', 'operating',\n",
       "       'locale_33.0', 'seniority', 'WASCSR', 'region_id_1', 'ACCSC', 'SACSCC',\n",
       "       'AAAA', 'NEACHE', 'id', 'state_fips_25', 'state_fips', 'COE',\n",
       "       'locale_32.0', 'locale_21.0', 'AARTS', 'OKSBVT', 'carnegie_basic_14.0',\n",
       "       'state_fips_40', 'carnegie_basic_28.0', 'region_id_2',\n",
       "       'carnegie_basic_18.0', 'carnegie_basic_11.0', 'carnegie_basic_26.0',\n",
       "       'carnegie_basic_33.0', 'faculty_salary', 'minority_serving.tribal',\n",
       "       'state_fips_42', 'carnegie_basic_6.0', 'carnegie_basic_12.0',\n",
       "       'minority_serving.predominantly_black', 'locale_43.0', 'locale_42.0',\n",
       "       'ABHES', 'minority_serving.aanipi', 'NASM', 'carnegie_basic_17.0',\n",
       "       'ACCET', 'MSACHE', 'state_fips_54', 'NASAD', 'region_id_6',\n",
       "       'state_fips_5', 'region_id_5', 'state_fips_12', 'women_only',\n",
       "       'carnegie_basic_22.0', 'carnegie_basic_-3.0', 'carnegie_basic_15.0',\n",
       "       'state_fips_6', 'men_only', 'minority_serving.annh',\n",
       "       'carnegie_basic_19.0', 'NWCCU', 'state_fips_28', 'carnegie_basic_24.0',\n",
       "       'state_fips_11', 'carnegie_basic_29.0', 'NAST', 'state_fips_44',\n",
       "       'minority_serving.nant', 'state_fips_30', 'locale_12.0', 'NCACHE',\n",
       "       'carnegie_basic_23.0', 'state_fips_50', 'ft_faculty_rate',\n",
       "       'locale_23.0', 'state_fips_35'],\n",
       "      dtype='object')"
      ]
     },
     "execution_count": 123,
     "metadata": {},
     "output_type": "execute_result"
    }
   ],
   "source": [
    "correlation100 = data.corr()['cost'].apply(lambda x: abs(x)).sort_values(ascending=False)[1:101]\n",
    "correlation_list100 = (correlation100.index)[1:]\n",
    "correlation_list100"
   ]
  },
  {
   "cell_type": "code",
   "execution_count": 146,
   "metadata": {},
   "outputs": [
    {
     "data": {
      "text/plain": [
       "((4953, 182), (4953,))"
      ]
     },
     "execution_count": 146,
     "metadata": {},
     "output_type": "execute_result"
    }
   ],
   "source": [
    "Xs_train.shape, y_train.shape"
   ]
  },
  {
   "cell_type": "markdown",
   "metadata": {},
   "source": [
    "## Recursive Feature Elimination"
   ]
  },
  {
   "cell_type": "code",
   "execution_count": 169,
   "metadata": {},
   "outputs": [
    {
     "name": "stdout",
     "output_type": "stream",
     "text": [
      "100\n"
     ]
    }
   ],
   "source": [
    "rfe_features100 = []\n",
    "for col, keep in zip(X_train.columns, rfe.support_):\n",
    "    if keep == True:\n",
    "        rfe_features100.append(col)\n",
    "print(len(rfe_features100))"
   ]
  },
  {
   "cell_type": "markdown",
   "metadata": {},
   "source": [
    "## SelectKbest"
   ]
  },
  {
   "cell_type": "code",
   "execution_count": 179,
   "metadata": {},
   "outputs": [
    {
     "name": "stdout",
     "output_type": "stream",
     "text": [
      "100\n"
     ]
    },
    {
     "name": "stderr",
     "output_type": "stream",
     "text": [
      "/Users/fcbnyc/anaconda3/lib/python3.6/site-packages/sklearn/feature_selection/univariate_selection.py:279: RuntimeWarning: invalid value encountered in true_divide\n",
      "  corr /= row_norms(X.T)\n",
      "/Users/fcbnyc/anaconda3/lib/python3.6/site-packages/scipy/stats/_distn_infrastructure.py:879: RuntimeWarning: invalid value encountered in greater\n",
      "  return (self.a < x) & (x < self.b)\n",
      "/Users/fcbnyc/anaconda3/lib/python3.6/site-packages/scipy/stats/_distn_infrastructure.py:879: RuntimeWarning: invalid value encountered in less\n",
      "  return (self.a < x) & (x < self.b)\n",
      "/Users/fcbnyc/anaconda3/lib/python3.6/site-packages/scipy/stats/_distn_infrastructure.py:1818: RuntimeWarning: invalid value encountered in less_equal\n",
      "  cond2 = cond0 & (x <= self.a)\n"
     ]
    }
   ],
   "source": [
    "selectkbest = SelectKBest(f_regression, k=100)\n",
    "selectkbest.fit(Xs_train, y_train)\n",
    "selectk_100 = []\n",
    "for col, keep in zip(X_train.columns, selectkbest.get_support()):\n",
    "    if keep == True:\n",
    "        selectk_100.append(col)\n",
    "print(len(selectk_100))"
   ]
  },
  {
   "cell_type": "code",
   "execution_count": 180,
   "metadata": {
    "collapsed": true
   },
   "outputs": [],
   "source": [
    "llista_seleccio = [selectk_100, rfe_features100, correlation_list100, feature_name_lasso[0:100]]\n",
    "\n",
    "for item in llista_seleccio:\n",
    "    y = data['cost']\n",
    "    X = data[item]\n",
    "\n",
    "    X_train, X_test, y_train, y_test = train_test_split(X,y, test_size=0.25)\n",
    "\n",
    "    \n",
    "\n",
    "    ss = StandardScaler()\n",
    "    Xs_train = ss.fit_transform(X_train)\n",
    "    Xs_test = ss.fit_transform(X_test)\n",
    "    gbc = GradientBoostingRegressor()\n",
    "    gbc_params = {'n_estimators': [175, 200, 225, 250, 275], 'max_features': ['auto', 'log2', None], 'max_depth': range(1,4)}\n",
    "    gbc_model = GridSearchCV(gbc, param_grid=gbc_params)\n",
    "    gbc_model.fit(Xs_train, y_train)\n",
    "    print('best score', gbc_model.best_score_)\n",
    "    print('best params', gbc_model.best_params_)\n",
    "    print('test score', gbc_model.score(Xs_test, y_test))\n",
    "    predictions = gbc_model.predict(Xs_test)\n",
    "    #prediction = gbc_model.predict(XTs)\n",
    "    #test['SalePrice'] = prediction\n",
    "    RMSE = np.sqrt(mean_squared_error(y_test, predictions))\n",
    "    print('gbc', RMSE)"
   ]
  },
  {
   "cell_type": "code",
   "execution_count": 183,
   "metadata": {},
   "outputs": [
    {
     "name": "stdout",
     "output_type": "stream",
     "text": [
      "50\n"
     ]
    },
    {
     "name": "stderr",
     "output_type": "stream",
     "text": [
      "/Users/fcbnyc/anaconda3/lib/python3.6/site-packages/sklearn/feature_selection/univariate_selection.py:279: RuntimeWarning: invalid value encountered in true_divide\n",
      "  corr /= row_norms(X.T)\n",
      "/Users/fcbnyc/anaconda3/lib/python3.6/site-packages/scipy/stats/_distn_infrastructure.py:879: RuntimeWarning: invalid value encountered in greater\n",
      "  return (self.a < x) & (x < self.b)\n",
      "/Users/fcbnyc/anaconda3/lib/python3.6/site-packages/scipy/stats/_distn_infrastructure.py:879: RuntimeWarning: invalid value encountered in less\n",
      "  return (self.a < x) & (x < self.b)\n",
      "/Users/fcbnyc/anaconda3/lib/python3.6/site-packages/scipy/stats/_distn_infrastructure.py:1818: RuntimeWarning: invalid value encountered in less_equal\n",
      "  cond2 = cond0 & (x <= self.a)\n"
     ]
    }
   ],
   "source": [
    "correlation50 = data.corr()['cost'].apply(lambda x: abs(x)).sort_values(ascending=False)[1:51]\n",
    "correlation_list50 = (correlation50.index)[1:]\n",
    "selectkbest = SelectKBest(f_regression, k=50)\n",
    "selectkbest.fit(Xs_train, y_train)\n",
    "selectk_50 = []\n",
    "for col, keep in zip(X_train.columns, selectkbest.get_support()):\n",
    "    if keep == True:\n",
    "        selectk_50.append(col)\n",
    "print(len(selectk_50))"
   ]
  },
  {
   "cell_type": "code",
   "execution_count": 184,
   "metadata": {},
   "outputs": [
    {
     "name": "stdout",
     "output_type": "stream",
     "text": [
      "Fitting estimator with 100 features.\n",
      "Fitting estimator with 99 features.\n",
      "Fitting estimator with 98 features.\n",
      "Fitting estimator with 97 features.\n",
      "Fitting estimator with 96 features.\n",
      "Fitting estimator with 95 features.\n",
      "Fitting estimator with 94 features.\n",
      "Fitting estimator with 93 features.\n",
      "Fitting estimator with 92 features.\n",
      "Fitting estimator with 91 features.\n",
      "Fitting estimator with 90 features.\n",
      "Fitting estimator with 89 features.\n",
      "Fitting estimator with 88 features.\n",
      "Fitting estimator with 87 features.\n",
      "Fitting estimator with 86 features.\n",
      "Fitting estimator with 85 features.\n",
      "Fitting estimator with 84 features.\n",
      "Fitting estimator with 83 features.\n",
      "Fitting estimator with 82 features.\n",
      "Fitting estimator with 81 features.\n",
      "Fitting estimator with 80 features.\n",
      "Fitting estimator with 79 features.\n",
      "Fitting estimator with 78 features.\n",
      "Fitting estimator with 77 features.\n",
      "Fitting estimator with 76 features.\n",
      "Fitting estimator with 75 features.\n",
      "Fitting estimator with 74 features.\n",
      "Fitting estimator with 73 features.\n",
      "Fitting estimator with 72 features.\n",
      "Fitting estimator with 71 features.\n",
      "Fitting estimator with 70 features.\n",
      "Fitting estimator with 69 features.\n",
      "Fitting estimator with 68 features.\n",
      "Fitting estimator with 67 features.\n",
      "Fitting estimator with 66 features.\n",
      "Fitting estimator with 65 features.\n",
      "Fitting estimator with 64 features.\n",
      "Fitting estimator with 63 features.\n",
      "Fitting estimator with 62 features.\n",
      "Fitting estimator with 61 features.\n",
      "Fitting estimator with 60 features.\n",
      "Fitting estimator with 59 features.\n",
      "Fitting estimator with 58 features.\n",
      "Fitting estimator with 57 features.\n",
      "Fitting estimator with 56 features.\n",
      "Fitting estimator with 55 features.\n",
      "Fitting estimator with 54 features.\n",
      "Fitting estimator with 53 features.\n",
      "Fitting estimator with 52 features.\n",
      "Fitting estimator with 51 features.\n",
      "50\n"
     ]
    }
   ],
   "source": [
    "lr = LinearRegression()\n",
    "rfe = RFE(lr, verbose=1, n_features_to_select=50)\n",
    "\n",
    "rfe.fit(Xs_train, y_train)\n",
    "rfe_features50 = []\n",
    "for col, keep in zip(X_train.columns, rfe.support_):\n",
    "    if keep == True:\n",
    "        rfe_features50.append(col)\n",
    "print(len(rfe_features50))"
   ]
  },
  {
   "cell_type": "code",
   "execution_count": 185,
   "metadata": {},
   "outputs": [
    {
     "name": "stdout",
     "output_type": "stream",
     "text": [
      "best score 0.494091164499\n",
      "best params {'max_depth': 3, 'max_features': None, 'n_estimators': 275}\n",
      "test score 0.48764827808\n",
      "gbc 5440.43805882\n",
      "best score 0.489414719453\n",
      "best params {'max_depth': 3, 'max_features': 'auto', 'n_estimators': 275}\n",
      "test score 0.496339931319\n",
      "gbc 5259.67153227\n",
      "best score 0.582225988923\n",
      "best params {'max_depth': 3, 'max_features': 'log2', 'n_estimators': 275}\n",
      "test score 0.579915984142\n",
      "gbc 4884.97887136\n",
      "best score 0.482015183331\n",
      "best params {'max_depth': 3, 'max_features': None, 'n_estimators': 275}\n",
      "test score 0.520157919119\n",
      "gbc 4980.83370429\n"
     ]
    }
   ],
   "source": [
    "llista_seleccio50 = [selectk_50, rfe_features50, correlation_list50, feature_name_lasso[0:50]]\n",
    "\n",
    "for item in llista_seleccio50:\n",
    "    y = data['cost']\n",
    "    X = data[item]\n",
    "\n",
    "    X_train, X_test, y_train, y_test = train_test_split(X,y, test_size=0.25)\n",
    "\n",
    "    \n",
    "\n",
    "    ss = StandardScaler()\n",
    "    Xs_train = ss.fit_transform(X_train)\n",
    "    Xs_test = ss.fit_transform(X_test)\n",
    "    gbc = GradientBoostingRegressor()\n",
    "    gbc_params = {'n_estimators': [175, 200, 225, 250, 275], 'max_features': ['auto', 'log2', None], 'max_depth': range(1,4)}\n",
    "    gbc_model = GridSearchCV(gbc, param_grid=gbc_params)\n",
    "    gbc_model.fit(Xs_train, y_train)\n",
    "    print('best score', gbc_model.best_score_)\n",
    "    print('best params', gbc_model.best_params_)\n",
    "    print('test score', gbc_model.score(Xs_test, y_test))\n",
    "    predictions = gbc_model.predict(Xs_test)\n",
    "    #prediction = gbc_model.predict(XTs)\n",
    "    #test['SalePrice'] = prediction\n",
    "    RMSE = np.sqrt(mean_squared_error(y_test, predictions))\n",
    "    print('gbc', RMSE)"
   ]
  }
 ],
 "metadata": {
  "kernelspec": {
   "display_name": "Python 3",
   "language": "python",
   "name": "python3"
  },
  "language_info": {
   "codemirror_mode": {
    "name": "ipython",
    "version": 3
   },
   "file_extension": ".py",
   "mimetype": "text/x-python",
   "name": "python",
   "nbconvert_exporter": "python",
   "pygments_lexer": "ipython3",
   "version": "3.6.1"
  }
 },
 "nbformat": 4,
 "nbformat_minor": 2
}
