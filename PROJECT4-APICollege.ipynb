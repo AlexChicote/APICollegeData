{
 "cells": [
  {
   "cell_type": "markdown",
   "metadata": {},
   "source": [
    "                                        #### Project 4"
   ]
  },
  {
   "cell_type": "markdown",
   "metadata": {},
   "source": [
    "                                        #### Project 4\n",
    "# API on College Data. Collecting it. Scraping it... Whatever it takes\n",
    "\n",
    "_Author: Alex Chicote (NYC)_\n",
    "\n",
    "---\n",
    "<img src=\"./pexels-photo-356086.jpeg\" style=\"float: center; margin: 20px; height: 300px\">\n",
    "\n",
    "                                            Let's get the necessary data from schools and cost in\n",
    "                                            college tuition in the US?\n",
    "        "
   ]
  },
  {
   "cell_type": "markdown",
   "metadata": {},
   "source": [
    "## The main reason I picked this project is because I wanted to get some more practice in web scraping and API. And certainly, I did.\n",
    " "
   ]
  },
  {
   "cell_type": "markdown",
   "metadata": {},
   "source": [
    "## First: import all necessary modules"
   ]
  },
  {
   "cell_type": "code",
   "execution_count": 1,
   "metadata": {
    "collapsed": true
   },
   "outputs": [],
   "source": [
    "import pandas as pd\n",
    "import requests\n",
    "import json\n",
    "import pickle\n",
    "import numpy as np"
   ]
  },
  {
   "cell_type": "markdown",
   "metadata": {},
   "source": [
    "## Second: Study the possibilities of the data. What is there available?  and what do I want to download? My only clear idea beforehand is to work with API"
   ]
  },
  {
   "cell_type": "markdown",
   "metadata": {},
   "source": [
    "1. Obtaining the API Key\n",
    "2. Download/upload the data dictionary\n",
    "3. I pull out three lists: One conatining the fields related to the root values, a second one for each school a third one for cost"
   ]
  },
  {
   "cell_type": "code",
   "execution_count": 2,
   "metadata": {
    "collapsed": true
   },
   "outputs": [],
   "source": [
    "data_dict = pd.read_excel('Workbook1.xlsx')"
   ]
  },
  {
   "cell_type": "code",
   "execution_count": 3,
   "metadata": {},
   "outputs": [
    {
     "data": {
      "text/html": [
       "<div>\n",
       "<style>\n",
       "    .dataframe thead tr:only-child th {\n",
       "        text-align: right;\n",
       "    }\n",
       "\n",
       "    .dataframe thead th {\n",
       "        text-align: left;\n",
       "    }\n",
       "\n",
       "    .dataframe tbody tr th {\n",
       "        vertical-align: top;\n",
       "    }\n",
       "</style>\n",
       "<table border=\"1\" class=\"dataframe\">\n",
       "  <thead>\n",
       "    <tr style=\"text-align: right;\">\n",
       "      <th></th>\n",
       "      <th>NAME OF DATA ELEMENT</th>\n",
       "      <th>dev-category</th>\n",
       "      <th>developer-friendly name</th>\n",
       "      <th>API data type</th>\n",
       "      <th>VARIABLE NAME</th>\n",
       "      <th>VALUE</th>\n",
       "      <th>LABEL</th>\n",
       "      <th>SOURCE</th>\n",
       "      <th>NOTES</th>\n",
       "    </tr>\n",
       "  </thead>\n",
       "  <tbody>\n",
       "    <tr>\n",
       "      <th>0</th>\n",
       "      <td>Unit ID for institution</td>\n",
       "      <td>root</td>\n",
       "      <td>id</td>\n",
       "      <td>integer</td>\n",
       "      <td>UNITID</td>\n",
       "      <td>NaN</td>\n",
       "      <td>NaN</td>\n",
       "      <td>IPEDS</td>\n",
       "      <td>Shown/used on consumer website.</td>\n",
       "    </tr>\n",
       "    <tr>\n",
       "      <th>1</th>\n",
       "      <td>8-digit OPE ID for institution</td>\n",
       "      <td>root</td>\n",
       "      <td>ope8_id</td>\n",
       "      <td>integer</td>\n",
       "      <td>OPEID</td>\n",
       "      <td>NaN</td>\n",
       "      <td>NaN</td>\n",
       "      <td>IPEDS</td>\n",
       "      <td>Shown/used on consumer website.</td>\n",
       "    </tr>\n",
       "    <tr>\n",
       "      <th>2</th>\n",
       "      <td>6-digit OPE ID for institution</td>\n",
       "      <td>root</td>\n",
       "      <td>ope6_id</td>\n",
       "      <td>integer</td>\n",
       "      <td>OPEID6</td>\n",
       "      <td>NaN</td>\n",
       "      <td>NaN</td>\n",
       "      <td>IPEDS</td>\n",
       "      <td>Shown/used on consumer website.</td>\n",
       "    </tr>\n",
       "    <tr>\n",
       "      <th>116</th>\n",
       "      <td>Latitude</td>\n",
       "      <td>root</td>\n",
       "      <td>location.lat</td>\n",
       "      <td>float</td>\n",
       "      <td>LATITUDE</td>\n",
       "      <td>NaN</td>\n",
       "      <td>NaN</td>\n",
       "      <td>IPEDS</td>\n",
       "      <td>NaN</td>\n",
       "    </tr>\n",
       "    <tr>\n",
       "      <th>117</th>\n",
       "      <td>Longitude</td>\n",
       "      <td>root</td>\n",
       "      <td>location.lon</td>\n",
       "      <td>float</td>\n",
       "      <td>LONGITUDE</td>\n",
       "      <td>NaN</td>\n",
       "      <td>NaN</td>\n",
       "      <td>IPEDS</td>\n",
       "      <td>NaN</td>\n",
       "    </tr>\n",
       "  </tbody>\n",
       "</table>\n",
       "</div>"
      ],
      "text/plain": [
       "               NAME OF DATA ELEMENT dev-category developer-friendly name  \\\n",
       "0           Unit ID for institution         root                      id   \n",
       "1    8-digit OPE ID for institution         root                 ope8_id   \n",
       "2    6-digit OPE ID for institution         root                 ope6_id   \n",
       "116                        Latitude         root            location.lat   \n",
       "117                       Longitude         root            location.lon   \n",
       "\n",
       "    API data type VARIABLE NAME  VALUE LABEL SOURCE  \\\n",
       "0         integer        UNITID    NaN   NaN  IPEDS   \n",
       "1         integer         OPEID    NaN   NaN  IPEDS   \n",
       "2         integer        OPEID6    NaN   NaN  IPEDS   \n",
       "116         float      LATITUDE    NaN   NaN  IPEDS   \n",
       "117         float     LONGITUDE    NaN   NaN  IPEDS   \n",
       "\n",
       "                               NOTES  \n",
       "0    Shown/used on consumer website.  \n",
       "1    Shown/used on consumer website.  \n",
       "2    Shown/used on consumer website.  \n",
       "116                              NaN  \n",
       "117                              NaN  "
      ]
     },
     "execution_count": 3,
     "metadata": {},
     "output_type": "execute_result"
    }
   ],
   "source": [
    "data_dict[data_dict['dev-category'] == 'root']"
   ]
  },
  {
   "cell_type": "code",
   "execution_count": 4,
   "metadata": {
    "collapsed": true
   },
   "outputs": [],
   "source": [
    "root_list = data_dict['developer-friendly name'][data_dict['dev-category'] == 'root']"
   ]
  },
  {
   "cell_type": "code",
   "execution_count": 5,
   "metadata": {
    "collapsed": true
   },
   "outputs": [],
   "source": [
    "school_list = data_dict['developer-friendly name'][(data_dict['dev-category'] == 'school') & (data_dict['developer-friendly name'].notnull())]"
   ]
  },
  {
   "cell_type": "code",
   "execution_count": 6,
   "metadata": {
    "collapsed": true
   },
   "outputs": [],
   "source": [
    "cost_list = data_dict['developer-friendly name'][(data_dict['dev-category'] == 'cost') & (data_dict['developer-friendly name'].notnull())]"
   ]
  },
  {
   "cell_type": "code",
   "execution_count": 7,
   "metadata": {},
   "outputs": [
    {
     "data": {
      "text/plain": [
       "555     avg_net_price.public\n",
       "556    avg_net_price.private\n",
       "Name: developer-friendly name, dtype: object"
      ]
     },
     "execution_count": 7,
     "metadata": {},
     "output_type": "execute_result"
    }
   ],
   "source": [
    "cost_list_selection = cost_list[0:2]\n",
    "cost_list_selection"
   ]
  },
  {
   "cell_type": "markdown",
   "metadata": {
    "collapsed": true
   },
   "source": [
    "## Right now I am leaning towards making some kind of study to analyzed what are the most important features that determine the cost of a college."
   ]
  },
  {
   "cell_type": "markdown",
   "metadata": {},
   "source": [
    "### List of fields per year (2015 to 2011) for cost"
   ]
  },
  {
   "cell_type": "code",
   "execution_count": 8,
   "metadata": {},
   "outputs": [
    {
     "data": {
      "text/plain": [
       "'2011.cost.avg_net_price.public,2012.cost.avg_net_price.public,2013.cost.avg_net_price.public,2014.cost.avg_net_price.public,2015.cost.avg_net_price.public,2011.cost.avg_net_price.private,2012.cost.avg_net_price.private,2013.cost.avg_net_price.private,2014.cost.avg_net_price.private,2015.cost.avg_net_price.private'"
      ]
     },
     "execution_count": 8,
     "metadata": {},
     "output_type": "execute_result"
    }
   ],
   "source": [
    "new_cost_list = []\n",
    "for item in cost_list[0:2]:\n",
    "    nou = 'cost.'+str(item)\n",
    "    new_cost_list.append(nou)\n",
    "final_cost_list = ''\n",
    "for item in new_cost_list:\n",
    "    for year in [2011,2012,2013,2014,2015]:\n",
    "        final_cost_list = final_cost_list + ',' +str(year)+ '.' + item\n",
    "final_cost_list[1:]"
   ]
  },
  {
   "cell_type": "markdown",
   "metadata": {},
   "source": [
    "### List of fields to get from school related fields"
   ]
  },
  {
   "cell_type": "code",
   "execution_count": 9,
   "metadata": {},
   "outputs": [
    {
     "data": {
      "text/plain": [
       "'school.name,school.city,school.state,school.zip,school.accreditor,school.school_url,school.price_calculator_url,school.degrees_awarded.predominant_recoded,school.under_investigation,school.main_campus,school.branches,school.degrees_awarded.predominant,school.degrees_awarded.highest,school.ownership,school.state_fips,school.region_id,school.locale,school.degree_urbanization,school.carnegie_basic,school.carnegie_undergrad,school.carnegie_size_setting,school.minority_serving.historically_black,school.minority_serving.predominantly_black,school.minority_serving.annh,school.minority_serving.tribal,school.minority_serving.aanipi,school.minority_serving.hispanic,school.minority_serving.nant,school.men_only,school.women_only,school.religious_affiliation,school.online_only,school.operating,school.tuition_revenue_per_fte,school.instructional_expenditure_per_fte,school.faculty_salary,school.ft_faculty_rate,school.alias,school.institutional_characteristics.level,school.open_admissions_policy,school.accreditor_code,school.title_iv.approval_date,id'"
      ]
     },
     "execution_count": 9,
     "metadata": {},
     "output_type": "execute_result"
    }
   ],
   "source": [
    "##Preparing the list for school related fields\n",
    "new_school_list = []\n",
    "for item in school_list:\n",
    "    nou = 'school.'+str(item)\n",
    "    new_school_list.append(nou)\n",
    "\n",
    "final_school_list = ''\n",
    "for item in new_school_list:\n",
    "    final_school_list = final_school_list + str(',') + item\n",
    "\n",
    "final_school_list = final_school_list[1:]\n",
    "final_school_list = final_school_list + ',' + 'id'\n",
    "final_school_list"
   ]
  },
  {
   "cell_type": "code",
   "execution_count": 10,
   "metadata": {},
   "outputs": [
    {
     "data": {
      "text/plain": [
       "'school.name,school.city,school.state,school.zip,school.accreditor,school.school_url,school.price_calculator_url,school.degrees_awarded.predominant_recoded,school.under_investigation,school.main_campus,school.branches,school.degrees_awarded.predominant,school.degrees_awarded.highest,school.ownership,school.state_fips,school.region_id,school.locale,school.degree_urbanization,school.carnegie_basic,school.carnegie_undergrad,school.carnegie_size_setting,school.minority_serving.historically_black,school.minority_serving.predominantly_black,school.minority_serving.annh,school.minority_serving.tribal,school.minority_serving.aanipi,school.minority_serving.hispanic,school.minority_serving.nant,school.men_only,school.women_only,school.religious_affiliation,school.online_only,school.operating,school.tuition_revenue_per_fte,school.instructional_expenditure_per_fte,school.faculty_salary,school.ft_faculty_rate,school.alias,school.institutional_characteristics.level,school.open_admissions_policy,school.accreditor_code,school.title_iv.approval_date,id,2011.cost.avg_net_price.public,2012.cost.avg_net_price.public,2013.cost.avg_net_price.public,2014.cost.avg_net_price.public,2015.cost.avg_net_price.public,2011.cost.avg_net_price.private,2012.cost.avg_net_price.private,2013.cost.avg_net_price.private,2014.cost.avg_net_price.private,2015.cost.avg_net_price.private'"
      ]
     },
     "execution_count": 10,
     "metadata": {},
     "output_type": "execute_result"
    }
   ],
   "source": [
    "final_list =final_school_list + final_cost_list\n",
    "final_list"
   ]
  },
  {
   "cell_type": "markdown",
   "metadata": {},
   "source": [
    "## Creating dataframe conatining all data"
   ]
  },
  {
   "cell_type": "code",
   "execution_count": 271,
   "metadata": {
    "collapsed": true
   },
   "outputs": [],
   "source": [
    "\n",
    "cost_dict_list = []\n",
    "school_df = pd.DataFrame()\n",
    "for page in range(0,76):\n",
    "    url = 'https://api.data.gov/ed/collegescorecard/v1/schools.json?api_key=ZmsEq2zy6gjh5XNiIhUAlkgpZZ9NgR4mlyP4Fc6N&_fields=fields&_page=page&_per_page=100'\n",
    "    api_key = 'ZmsEq2zy6gjh5XNiIhUAlkgpZZ9NgR4mlyP4Fc6N'\n",
    "    #fields = final_cost_list_14\n",
    "    params = {'_fields': [final_list], '_page': page}    \n",
    "    res = requests.get(url,params) \n",
    "            # Convert the result, which is a string into a python list\n",
    "    dictionary = json.loads(res.content)\n",
    "    sc2 = pd.DataFrame(dictionary['results'])\n",
    "    school_df = school_df.append(sc2)\n",
    "    school_df.to_csv('school_df.csv', encoding='utf-8')"
   ]
  },
  {
   "cell_type": "markdown",
   "metadata": {},
   "source": [
    "# This is where I restart if need it"
   ]
  },
  {
   "cell_type": "code",
   "execution_count": 11,
   "metadata": {},
   "outputs": [
    {
     "data": {
      "text/html": [
       "<div>\n",
       "<style>\n",
       "    .dataframe thead tr:only-child th {\n",
       "        text-align: right;\n",
       "    }\n",
       "\n",
       "    .dataframe thead th {\n",
       "        text-align: left;\n",
       "    }\n",
       "\n",
       "    .dataframe tbody tr th {\n",
       "        vertical-align: top;\n",
       "    }\n",
       "</style>\n",
       "<table border=\"1\" class=\"dataframe\">\n",
       "  <thead>\n",
       "    <tr style=\"text-align: right;\">\n",
       "      <th></th>\n",
       "      <th>Unnamed: 0</th>\n",
       "      <th>2011.cost.avg_net_price.private</th>\n",
       "      <th>2011.cost.avg_net_price.public</th>\n",
       "      <th>2012.cost.avg_net_price.private</th>\n",
       "      <th>2012.cost.avg_net_price.public</th>\n",
       "      <th>2013.cost.avg_net_price.private</th>\n",
       "      <th>2013.cost.avg_net_price.public</th>\n",
       "      <th>2014.cost.avg_net_price.private</th>\n",
       "      <th>2014.cost.avg_net_price.public</th>\n",
       "      <th>2015.cost.avg_net_price.private</th>\n",
       "      <th>...</th>\n",
       "      <th>school.region_id</th>\n",
       "      <th>school.religious_affiliation</th>\n",
       "      <th>school.school_url</th>\n",
       "      <th>school.state</th>\n",
       "      <th>school.state_fips</th>\n",
       "      <th>school.title_iv.approval_date</th>\n",
       "      <th>school.tuition_revenue_per_fte</th>\n",
       "      <th>school.under_investigation</th>\n",
       "      <th>school.women_only</th>\n",
       "      <th>school.zip</th>\n",
       "    </tr>\n",
       "  </thead>\n",
       "  <tbody>\n",
       "    <tr>\n",
       "      <th>0</th>\n",
       "      <td>0</td>\n",
       "      <td>13109.0</td>\n",
       "      <td>NaN</td>\n",
       "      <td>13601.0</td>\n",
       "      <td>NaN</td>\n",
       "      <td>13754.0</td>\n",
       "      <td>NaN</td>\n",
       "      <td>15361.0</td>\n",
       "      <td>NaN</td>\n",
       "      <td>16621.0</td>\n",
       "      <td>...</td>\n",
       "      <td>3</td>\n",
       "      <td>NaN</td>\n",
       "      <td>www.nim.edu</td>\n",
       "      <td>OH</td>\n",
       "      <td>39</td>\n",
       "      <td>10/17/2003</td>\n",
       "      <td>5251.0</td>\n",
       "      <td>1</td>\n",
       "      <td>0.0</td>\n",
       "      <td>44319-2100</td>\n",
       "    </tr>\n",
       "    <tr>\n",
       "      <th>1</th>\n",
       "      <td>1</td>\n",
       "      <td>NaN</td>\n",
       "      <td>NaN</td>\n",
       "      <td>NaN</td>\n",
       "      <td>NaN</td>\n",
       "      <td>NaN</td>\n",
       "      <td>NaN</td>\n",
       "      <td>NaN</td>\n",
       "      <td>NaN</td>\n",
       "      <td>NaN</td>\n",
       "      <td>...</td>\n",
       "      <td>3</td>\n",
       "      <td>NaN</td>\n",
       "      <td>www.northshore.org/academics/other-programs/sc...</td>\n",
       "      <td>IL</td>\n",
       "      <td>17</td>\n",
       "      <td>9/20/2002</td>\n",
       "      <td>13314.0</td>\n",
       "      <td>0</td>\n",
       "      <td>0.0</td>\n",
       "      <td>60201-1718</td>\n",
       "    </tr>\n",
       "    <tr>\n",
       "      <th>2</th>\n",
       "      <td>2</td>\n",
       "      <td>280.0</td>\n",
       "      <td>NaN</td>\n",
       "      <td>3486.0</td>\n",
       "      <td>NaN</td>\n",
       "      <td>16025.0</td>\n",
       "      <td>NaN</td>\n",
       "      <td>14860.0</td>\n",
       "      <td>NaN</td>\n",
       "      <td>13905.0</td>\n",
       "      <td>...</td>\n",
       "      <td>6</td>\n",
       "      <td>88.0</td>\n",
       "      <td>www.familyoffaith.edu</td>\n",
       "      <td>OK</td>\n",
       "      <td>40</td>\n",
       "      <td>9/24/2002</td>\n",
       "      <td>1125.0</td>\n",
       "      <td>0</td>\n",
       "      <td>0.0</td>\n",
       "      <td>74802</td>\n",
       "    </tr>\n",
       "    <tr>\n",
       "      <th>3</th>\n",
       "      <td>3</td>\n",
       "      <td>NaN</td>\n",
       "      <td>NaN</td>\n",
       "      <td>NaN</td>\n",
       "      <td>NaN</td>\n",
       "      <td>NaN</td>\n",
       "      <td>NaN</td>\n",
       "      <td>NaN</td>\n",
       "      <td>NaN</td>\n",
       "      <td>NaN</td>\n",
       "      <td>...</td>\n",
       "      <td>5</td>\n",
       "      <td>24.0</td>\n",
       "      <td>www.hoodseminary.edu</td>\n",
       "      <td>NC</td>\n",
       "      <td>37</td>\n",
       "      <td>7/15/2002</td>\n",
       "      <td>11364.0</td>\n",
       "      <td>0</td>\n",
       "      <td>0.0</td>\n",
       "      <td>28144</td>\n",
       "    </tr>\n",
       "    <tr>\n",
       "      <th>4</th>\n",
       "      <td>4</td>\n",
       "      <td>21891.0</td>\n",
       "      <td>NaN</td>\n",
       "      <td>23289.0</td>\n",
       "      <td>NaN</td>\n",
       "      <td>24405.0</td>\n",
       "      <td>NaN</td>\n",
       "      <td>24247.0</td>\n",
       "      <td>NaN</td>\n",
       "      <td>23896.0</td>\n",
       "      <td>...</td>\n",
       "      <td>2</td>\n",
       "      <td>NaN</td>\n",
       "      <td>www.pcage.edu</td>\n",
       "      <td>NJ</td>\n",
       "      <td>34</td>\n",
       "      <td>11/20/2007</td>\n",
       "      <td>6184.0</td>\n",
       "      <td>0</td>\n",
       "      <td>0.0</td>\n",
       "      <td>08830</td>\n",
       "    </tr>\n",
       "  </tbody>\n",
       "</table>\n",
       "<p>5 rows × 54 columns</p>\n",
       "</div>"
      ],
      "text/plain": [
       "   Unnamed: 0  2011.cost.avg_net_price.private  \\\n",
       "0           0                          13109.0   \n",
       "1           1                              NaN   \n",
       "2           2                            280.0   \n",
       "3           3                              NaN   \n",
       "4           4                          21891.0   \n",
       "\n",
       "   2011.cost.avg_net_price.public  2012.cost.avg_net_price.private  \\\n",
       "0                             NaN                          13601.0   \n",
       "1                             NaN                              NaN   \n",
       "2                             NaN                           3486.0   \n",
       "3                             NaN                              NaN   \n",
       "4                             NaN                          23289.0   \n",
       "\n",
       "   2012.cost.avg_net_price.public  2013.cost.avg_net_price.private  \\\n",
       "0                             NaN                          13754.0   \n",
       "1                             NaN                              NaN   \n",
       "2                             NaN                          16025.0   \n",
       "3                             NaN                              NaN   \n",
       "4                             NaN                          24405.0   \n",
       "\n",
       "   2013.cost.avg_net_price.public  2014.cost.avg_net_price.private  \\\n",
       "0                             NaN                          15361.0   \n",
       "1                             NaN                              NaN   \n",
       "2                             NaN                          14860.0   \n",
       "3                             NaN                              NaN   \n",
       "4                             NaN                          24247.0   \n",
       "\n",
       "   2014.cost.avg_net_price.public  2015.cost.avg_net_price.private  \\\n",
       "0                             NaN                          16621.0   \n",
       "1                             NaN                              NaN   \n",
       "2                             NaN                          13905.0   \n",
       "3                             NaN                              NaN   \n",
       "4                             NaN                          23896.0   \n",
       "\n",
       "      ...      school.region_id  school.religious_affiliation  \\\n",
       "0     ...                     3                           NaN   \n",
       "1     ...                     3                           NaN   \n",
       "2     ...                     6                          88.0   \n",
       "3     ...                     5                          24.0   \n",
       "4     ...                     2                           NaN   \n",
       "\n",
       "                                   school.school_url school.state  \\\n",
       "0                                        www.nim.edu           OH   \n",
       "1  www.northshore.org/academics/other-programs/sc...           IL   \n",
       "2                              www.familyoffaith.edu           OK   \n",
       "3                               www.hoodseminary.edu           NC   \n",
       "4                                      www.pcage.edu           NJ   \n",
       "\n",
       "  school.state_fips  school.title_iv.approval_date  \\\n",
       "0                39                     10/17/2003   \n",
       "1                17                      9/20/2002   \n",
       "2                40                      9/24/2002   \n",
       "3                37                      7/15/2002   \n",
       "4                34                     11/20/2007   \n",
       "\n",
       "   school.tuition_revenue_per_fte  school.under_investigation  \\\n",
       "0                          5251.0                           1   \n",
       "1                         13314.0                           0   \n",
       "2                          1125.0                           0   \n",
       "3                         11364.0                           0   \n",
       "4                          6184.0                           0   \n",
       "\n",
       "   school.women_only  school.zip  \n",
       "0                0.0  44319-2100  \n",
       "1                0.0  60201-1718  \n",
       "2                0.0       74802  \n",
       "3                0.0       28144  \n",
       "4                0.0       08830  \n",
       "\n",
       "[5 rows x 54 columns]"
      ]
     },
     "execution_count": 11,
     "metadata": {},
     "output_type": "execute_result"
    }
   ],
   "source": [
    "school_df = pd.read_csv('school_df.csv')\n",
    "school_df.head()"
   ]
  },
  {
   "cell_type": "code",
   "execution_count": 12,
   "metadata": {},
   "outputs": [
    {
     "data": {
      "text/plain": [
       "(7593, 54)"
      ]
     },
     "execution_count": 12,
     "metadata": {},
     "output_type": "execute_result"
    }
   ],
   "source": [
    "school_df.shape"
   ]
  },
  {
   "cell_type": "code",
   "execution_count": 13,
   "metadata": {
    "collapsed": true
   },
   "outputs": [],
   "source": [
    "school_df.drop('Unnamed: 0', axis=1, inplace=True)"
   ]
  },
  {
   "cell_type": "code",
   "execution_count": 14,
   "metadata": {},
   "outputs": [
    {
     "data": {
      "text/plain": [
       "95       457077\n",
       "96       457086\n",
       "97     10722001\n",
       "98     10722002\n",
       "99     11835605\n",
       "100    11835606\n",
       "101    11835608\n",
       "102    11835609\n",
       "103    18017901\n",
       "104    18945901\n",
       "Name: id, dtype: int64"
      ]
     },
     "execution_count": 14,
     "metadata": {},
     "output_type": "execute_result"
    }
   ],
   "source": [
    "#it needs re indexing\n",
    "school_df['id'][95:105]"
   ]
  },
  {
   "cell_type": "code",
   "execution_count": 15,
   "metadata": {
    "collapsed": true
   },
   "outputs": [],
   "source": [
    "school_df = school_df.reset_index(drop=True)"
   ]
  },
  {
   "cell_type": "markdown",
   "metadata": {},
   "source": [
    "## I want to make one column for cost(my target). In order to do it, first I will create 2 columns:\n",
    "### The first one is the average cost for private colleges from 2011 to 2015 ['private_cost]\n",
    "### The second one is the same but for public colleges['public_cost]"
   ]
  },
  {
   "cell_type": "code",
   "execution_count": 16,
   "metadata": {
    "collapsed": true
   },
   "outputs": [],
   "source": [
    "cost_public = [c for c in school_df.columns if '_price.public' in c]\n",
    "cost_private = [c for c in school_df.columns if '_price.private' in c]\n",
    "school_df['private_cost'] = school_df[cost_private].mean(axis=1)\n",
    "school_df['public_cost'] = school_df[cost_public].mean(axis=1)"
   ]
  },
  {
   "cell_type": "markdown",
   "metadata": {},
   "source": [
    "### It does not have much sense to me a negative price for a private or public school. I will delete them"
   ]
  },
  {
   "cell_type": "code",
   "execution_count": 17,
   "metadata": {},
   "outputs": [
    {
     "data": {
      "text/plain": [
       "2231   -28912.0\n",
       "5596    -6210.2\n",
       "7444    -1265.5\n",
       "Name: private_cost, dtype: float64"
      ]
     },
     "execution_count": 17,
     "metadata": {},
     "output_type": "execute_result"
    }
   ],
   "source": [
    "school_df[school_df['private_cost'] < 0]['private_cost']"
   ]
  },
  {
   "cell_type": "code",
   "execution_count": 18,
   "metadata": {},
   "outputs": [
    {
     "data": {
      "text/plain": [
       "1216   -123.6\n",
       "4018   -309.0\n",
       "6185   -547.2\n",
       "Name: public_cost, dtype: float64"
      ]
     },
     "execution_count": 18,
     "metadata": {},
     "output_type": "execute_result"
    }
   ],
   "source": [
    "school_df[school_df['public_cost'] < 0]['public_cost']"
   ]
  },
  {
   "cell_type": "code",
   "execution_count": 19,
   "metadata": {
    "collapsed": true
   },
   "outputs": [],
   "source": [
    "school_df.drop(school_df.index[[2231, 5596, 7444,1216, 4018, 6185]], inplace=True)"
   ]
  },
  {
   "cell_type": "code",
   "execution_count": 20,
   "metadata": {},
   "outputs": [
    {
     "data": {
      "text/plain": [
       "Series([], Name: private_cost, dtype: float64)"
      ]
     },
     "execution_count": 20,
     "metadata": {},
     "output_type": "execute_result"
    }
   ],
   "source": [
    "school_df[school_df['private_cost'] < 0]['private_cost']"
   ]
  },
  {
   "cell_type": "code",
   "execution_count": 21,
   "metadata": {},
   "outputs": [
    {
     "data": {
      "text/plain": [
       "Series([], Name: public_cost, dtype: float64)"
      ]
     },
     "execution_count": 21,
     "metadata": {},
     "output_type": "execute_result"
    }
   ],
   "source": [
    "school_df[school_df['public_cost'] < 0]['public_cost']"
   ]
  },
  {
   "cell_type": "code",
   "execution_count": 22,
   "metadata": {},
   "outputs": [
    {
     "data": {
      "text/plain": [
       "(7587, 55)"
      ]
     },
     "execution_count": 22,
     "metadata": {},
     "output_type": "execute_result"
    }
   ],
   "source": [
    "school_df.shape"
   ]
  },
  {
   "cell_type": "markdown",
   "metadata": {},
   "source": [
    "### Making sure I am not missing anything"
   ]
  },
  {
   "cell_type": "code",
   "execution_count": 23,
   "metadata": {},
   "outputs": [
    {
     "name": "stdout",
     "output_type": "stream",
     "text": [
      "985\n"
     ]
    },
    {
     "data": {
      "text/plain": [
       "983"
      ]
     },
     "execution_count": 23,
     "metadata": {},
     "output_type": "execute_result"
    }
   ],
   "source": [
    "a = school_df.loc[(school_df['private_cost'].notnull())\\\n",
    "                  & (school_df['public_cost'].isnull()), :].count()['school.name']\n",
    "\n",
    "b = school_df.loc[(school_df['private_cost'].isnull())\\\n",
    "                   & (school_df['public_cost'].notnull()), :].count()['school.name']\n",
    "print(school_df.shape[0] - a - b)\n",
    "school_df.loc[(school_df['private_cost'].isnull())\\\n",
    "                   & (school_df['public_cost'].isnull()), :].count()['school.name']\n"
   ]
  },
  {
   "cell_type": "markdown",
   "metadata": {},
   "source": [
    "985 colleges do not match. 983 have no cost data at all."
   ]
  },
  {
   "cell_type": "code",
   "execution_count": 24,
   "metadata": {},
   "outputs": [
    {
     "data": {
      "text/plain": [
       "2011.cost.avg_net_price.private                983\n",
       "2011.cost.avg_net_price.public                 983\n",
       "2012.cost.avg_net_price.private                983\n",
       "2012.cost.avg_net_price.public                 983\n",
       "2013.cost.avg_net_price.private                983\n",
       "2013.cost.avg_net_price.public                 983\n",
       "2014.cost.avg_net_price.private                983\n",
       "2014.cost.avg_net_price.public                 983\n",
       "2015.cost.avg_net_price.private                983\n",
       "2015.cost.avg_net_price.public                 983\n",
       "id                                               0\n",
       "school.accreditor                              148\n",
       "school.accreditor_code                         148\n",
       "school.alias                                   777\n",
       "school.branches                                  0\n",
       "school.carnegie_basic                          446\n",
       "school.carnegie_size_setting                   446\n",
       "school.carnegie_undergrad                      446\n",
       "school.city                                      0\n",
       "school.degree_urbanization                     983\n",
       "school.degrees_awarded.highest                   0\n",
       "school.degrees_awarded.predominant               0\n",
       "school.degrees_awarded.predominant_recoded     983\n",
       "school.faculty_salary                          612\n",
       "school.ft_faculty_rate                         671\n",
       "school.institutional_characteristics.level       0\n",
       "school.instructional_expenditure_per_fte       452\n",
       "school.locale                                  446\n",
       "school.main_campus                               0\n",
       "school.men_only                                446\n",
       "school.minority_serving.aanipi                 446\n",
       "school.minority_serving.annh                   446\n",
       "school.minority_serving.hispanic               446\n",
       "school.minority_serving.historically_black     446\n",
       "school.minority_serving.nant                   446\n",
       "school.minority_serving.predominantly_black    446\n",
       "school.minority_serving.tribal                 446\n",
       "school.name                                      0\n",
       "school.online_only                             446\n",
       "school.open_admissions_policy                  869\n",
       "school.operating                                 0\n",
       "school.ownership                                 0\n",
       "school.price_calculator_url                    518\n",
       "school.region_id                                 0\n",
       "school.religious_affiliation                   843\n",
       "school.school_url                               11\n",
       "school.state                                     0\n",
       "school.state_fips                                0\n",
       "school.title_iv.approval_date                  447\n",
       "school.tuition_revenue_per_fte                 452\n",
       "school.under_investigation                       0\n",
       "school.women_only                              446\n",
       "school.zip                                       0\n",
       "private_cost                                   983\n",
       "public_cost                                    983\n",
       "dtype: int64"
      ]
     },
     "execution_count": 24,
     "metadata": {},
     "output_type": "execute_result"
    }
   ],
   "source": [
    "checking_it_out = school_df.loc[(school_df['private_cost'].isnull())\\\n",
    "                   & (school_df['public_cost'].isnull()), :]\n",
    "##Doublechecking\n",
    "checking_it_out.isnull().sum()\n"
   ]
  },
  {
   "cell_type": "code",
   "execution_count": 25,
   "metadata": {
    "collapsed": true
   },
   "outputs": [],
   "source": [
    "school_df.dropna(subset=['private_cost','public_cost'], how='all', inplace=True)"
   ]
  },
  {
   "cell_type": "code",
   "execution_count": 26,
   "metadata": {},
   "outputs": [
    {
     "data": {
      "text/plain": [
       "(6604, 55)"
      ]
     },
     "execution_count": 26,
     "metadata": {},
     "output_type": "execute_result"
    }
   ],
   "source": [
    "school_df.shape"
   ]
  },
  {
   "cell_type": "markdown",
   "metadata": {},
   "source": [
    "# Schools that have data as public AND private"
   ]
  },
  {
   "cell_type": "code",
   "execution_count": 27,
   "metadata": {},
   "outputs": [
    {
     "data": {
      "text/plain": [
       "2"
      ]
     },
     "execution_count": 27,
     "metadata": {},
     "output_type": "execute_result"
    }
   ],
   "source": [
    "school_df.loc[(school_df['private_cost'].notnull())\\\n",
    "                   & (school_df['public_cost'].notnull()), :].count()['school.name']"
   ]
  },
  {
   "cell_type": "code",
   "execution_count": 28,
   "metadata": {},
   "outputs": [
    {
     "data": {
      "text/html": [
       "<div>\n",
       "<style>\n",
       "    .dataframe thead tr:only-child th {\n",
       "        text-align: right;\n",
       "    }\n",
       "\n",
       "    .dataframe thead th {\n",
       "        text-align: left;\n",
       "    }\n",
       "\n",
       "    .dataframe tbody tr th {\n",
       "        vertical-align: top;\n",
       "    }\n",
       "</style>\n",
       "<table border=\"1\" class=\"dataframe\">\n",
       "  <thead>\n",
       "    <tr style=\"text-align: right;\">\n",
       "      <th></th>\n",
       "      <th>2011.cost.avg_net_price.private</th>\n",
       "      <th>2011.cost.avg_net_price.public</th>\n",
       "      <th>2012.cost.avg_net_price.private</th>\n",
       "      <th>2012.cost.avg_net_price.public</th>\n",
       "      <th>2013.cost.avg_net_price.private</th>\n",
       "      <th>2013.cost.avg_net_price.public</th>\n",
       "      <th>2014.cost.avg_net_price.private</th>\n",
       "      <th>2014.cost.avg_net_price.public</th>\n",
       "      <th>2015.cost.avg_net_price.private</th>\n",
       "      <th>2015.cost.avg_net_price.public</th>\n",
       "      <th>...</th>\n",
       "      <th>school.school_url</th>\n",
       "      <th>school.state</th>\n",
       "      <th>school.state_fips</th>\n",
       "      <th>school.title_iv.approval_date</th>\n",
       "      <th>school.tuition_revenue_per_fte</th>\n",
       "      <th>school.under_investigation</th>\n",
       "      <th>school.women_only</th>\n",
       "      <th>school.zip</th>\n",
       "      <th>private_cost</th>\n",
       "      <th>public_cost</th>\n",
       "    </tr>\n",
       "  </thead>\n",
       "  <tbody>\n",
       "    <tr>\n",
       "      <th>4471</th>\n",
       "      <td>NaN</td>\n",
       "      <td>14823.0</td>\n",
       "      <td>NaN</td>\n",
       "      <td>13845.0</td>\n",
       "      <td>15569.0</td>\n",
       "      <td>NaN</td>\n",
       "      <td>16419.0</td>\n",
       "      <td>NaN</td>\n",
       "      <td>18181.0</td>\n",
       "      <td>NaN</td>\n",
       "      <td>...</td>\n",
       "      <td>paulmitchell.edu/indianapolis/</td>\n",
       "      <td>IN</td>\n",
       "      <td>18</td>\n",
       "      <td>1/13/2011</td>\n",
       "      <td>9534.0</td>\n",
       "      <td>0</td>\n",
       "      <td>0.0</td>\n",
       "      <td>46227-6252</td>\n",
       "      <td>16723.0</td>\n",
       "      <td>14334.0</td>\n",
       "    </tr>\n",
       "    <tr>\n",
       "      <th>4552</th>\n",
       "      <td>NaN</td>\n",
       "      <td>NaN</td>\n",
       "      <td>NaN</td>\n",
       "      <td>6636.0</td>\n",
       "      <td>9234.0</td>\n",
       "      <td>NaN</td>\n",
       "      <td>8015.0</td>\n",
       "      <td>NaN</td>\n",
       "      <td>9763.0</td>\n",
       "      <td>NaN</td>\n",
       "      <td>...</td>\n",
       "      <td>www.larrysbarbercollege.com</td>\n",
       "      <td>IL</td>\n",
       "      <td>17</td>\n",
       "      <td>7/27/2011</td>\n",
       "      <td>2690.0</td>\n",
       "      <td>0</td>\n",
       "      <td>0.0</td>\n",
       "      <td>60628-2322</td>\n",
       "      <td>9004.0</td>\n",
       "      <td>6636.0</td>\n",
       "    </tr>\n",
       "  </tbody>\n",
       "</table>\n",
       "<p>2 rows × 55 columns</p>\n",
       "</div>"
      ],
      "text/plain": [
       "      2011.cost.avg_net_price.private  2011.cost.avg_net_price.public  \\\n",
       "4471                              NaN                         14823.0   \n",
       "4552                              NaN                             NaN   \n",
       "\n",
       "      2012.cost.avg_net_price.private  2012.cost.avg_net_price.public  \\\n",
       "4471                              NaN                         13845.0   \n",
       "4552                              NaN                          6636.0   \n",
       "\n",
       "      2013.cost.avg_net_price.private  2013.cost.avg_net_price.public  \\\n",
       "4471                          15569.0                             NaN   \n",
       "4552                           9234.0                             NaN   \n",
       "\n",
       "      2014.cost.avg_net_price.private  2014.cost.avg_net_price.public  \\\n",
       "4471                          16419.0                             NaN   \n",
       "4552                           8015.0                             NaN   \n",
       "\n",
       "      2015.cost.avg_net_price.private  2015.cost.avg_net_price.public  \\\n",
       "4471                          18181.0                             NaN   \n",
       "4552                           9763.0                             NaN   \n",
       "\n",
       "         ...                    school.school_url school.state  \\\n",
       "4471     ...       paulmitchell.edu/indianapolis/           IN   \n",
       "4552     ...          www.larrysbarbercollege.com           IL   \n",
       "\n",
       "     school.state_fips school.title_iv.approval_date  \\\n",
       "4471                18                     1/13/2011   \n",
       "4552                17                     7/27/2011   \n",
       "\n",
       "      school.tuition_revenue_per_fte  school.under_investigation  \\\n",
       "4471                          9534.0                           0   \n",
       "4552                          2690.0                           0   \n",
       "\n",
       "      school.women_only  school.zip private_cost  public_cost  \n",
       "4471                0.0  46227-6252      16723.0      14334.0  \n",
       "4552                0.0  60628-2322       9004.0       6636.0  \n",
       "\n",
       "[2 rows x 55 columns]"
      ]
     },
     "execution_count": 28,
     "metadata": {},
     "output_type": "execute_result"
    }
   ],
   "source": [
    "school_df.loc[(school_df['private_cost'].notnull())\\\n",
    "                   & (school_df['public_cost'].notnull()), :] "
   ]
  },
  {
   "cell_type": "code",
   "execution_count": 29,
   "metadata": {
    "collapsed": true
   },
   "outputs": [],
   "source": [
    "school_df['private_cost'] = school_df['private_cost'].fillna(0)\n",
    "school_df['public_cost'] = school_df['public_cost'].fillna(0)\n",
    "school_df['cost'] = school_df['private_cost'] + school_df['public_cost']"
   ]
  },
  {
   "cell_type": "code",
   "execution_count": 30,
   "metadata": {},
   "outputs": [
    {
     "data": {
      "text/plain": [
       "0"
      ]
     },
     "execution_count": 30,
     "metadata": {},
     "output_type": "execute_result"
    }
   ],
   "source": [
    "school_df['cost'].isnull().sum()"
   ]
  },
  {
   "cell_type": "markdown",
   "metadata": {},
   "source": [
    "I am going to fix the 2 that had private and public values"
   ]
  },
  {
   "cell_type": "code",
   "execution_count": 31,
   "metadata": {},
   "outputs": [
    {
     "data": {
      "text/html": [
       "<div>\n",
       "<style>\n",
       "    .dataframe thead tr:only-child th {\n",
       "        text-align: right;\n",
       "    }\n",
       "\n",
       "    .dataframe thead th {\n",
       "        text-align: left;\n",
       "    }\n",
       "\n",
       "    .dataframe tbody tr th {\n",
       "        vertical-align: top;\n",
       "    }\n",
       "</style>\n",
       "<table border=\"1\" class=\"dataframe\">\n",
       "  <thead>\n",
       "    <tr style=\"text-align: right;\">\n",
       "      <th></th>\n",
       "      <th>2011.cost.avg_net_price.private</th>\n",
       "      <th>2011.cost.avg_net_price.public</th>\n",
       "      <th>2012.cost.avg_net_price.private</th>\n",
       "      <th>2012.cost.avg_net_price.public</th>\n",
       "      <th>2013.cost.avg_net_price.private</th>\n",
       "      <th>2013.cost.avg_net_price.public</th>\n",
       "      <th>2014.cost.avg_net_price.private</th>\n",
       "      <th>2014.cost.avg_net_price.public</th>\n",
       "      <th>2015.cost.avg_net_price.private</th>\n",
       "      <th>2015.cost.avg_net_price.public</th>\n",
       "      <th>...</th>\n",
       "      <th>school.state</th>\n",
       "      <th>school.state_fips</th>\n",
       "      <th>school.title_iv.approval_date</th>\n",
       "      <th>school.tuition_revenue_per_fte</th>\n",
       "      <th>school.under_investigation</th>\n",
       "      <th>school.women_only</th>\n",
       "      <th>school.zip</th>\n",
       "      <th>private_cost</th>\n",
       "      <th>public_cost</th>\n",
       "      <th>cost</th>\n",
       "    </tr>\n",
       "  </thead>\n",
       "  <tbody>\n",
       "    <tr>\n",
       "      <th>4471</th>\n",
       "      <td>NaN</td>\n",
       "      <td>14823.0</td>\n",
       "      <td>NaN</td>\n",
       "      <td>13845.0</td>\n",
       "      <td>15569.0</td>\n",
       "      <td>NaN</td>\n",
       "      <td>16419.0</td>\n",
       "      <td>NaN</td>\n",
       "      <td>18181.0</td>\n",
       "      <td>NaN</td>\n",
       "      <td>...</td>\n",
       "      <td>IN</td>\n",
       "      <td>18</td>\n",
       "      <td>1/13/2011</td>\n",
       "      <td>9534.0</td>\n",
       "      <td>0</td>\n",
       "      <td>0.0</td>\n",
       "      <td>46227-6252</td>\n",
       "      <td>16723.0</td>\n",
       "      <td>14334.0</td>\n",
       "      <td>31057.0</td>\n",
       "    </tr>\n",
       "    <tr>\n",
       "      <th>4552</th>\n",
       "      <td>NaN</td>\n",
       "      <td>NaN</td>\n",
       "      <td>NaN</td>\n",
       "      <td>6636.0</td>\n",
       "      <td>9234.0</td>\n",
       "      <td>NaN</td>\n",
       "      <td>8015.0</td>\n",
       "      <td>NaN</td>\n",
       "      <td>9763.0</td>\n",
       "      <td>NaN</td>\n",
       "      <td>...</td>\n",
       "      <td>IL</td>\n",
       "      <td>17</td>\n",
       "      <td>7/27/2011</td>\n",
       "      <td>2690.0</td>\n",
       "      <td>0</td>\n",
       "      <td>0.0</td>\n",
       "      <td>60628-2322</td>\n",
       "      <td>9004.0</td>\n",
       "      <td>6636.0</td>\n",
       "      <td>15640.0</td>\n",
       "    </tr>\n",
       "  </tbody>\n",
       "</table>\n",
       "<p>2 rows × 56 columns</p>\n",
       "</div>"
      ],
      "text/plain": [
       "      2011.cost.avg_net_price.private  2011.cost.avg_net_price.public  \\\n",
       "4471                              NaN                         14823.0   \n",
       "4552                              NaN                             NaN   \n",
       "\n",
       "      2012.cost.avg_net_price.private  2012.cost.avg_net_price.public  \\\n",
       "4471                              NaN                         13845.0   \n",
       "4552                              NaN                          6636.0   \n",
       "\n",
       "      2013.cost.avg_net_price.private  2013.cost.avg_net_price.public  \\\n",
       "4471                          15569.0                             NaN   \n",
       "4552                           9234.0                             NaN   \n",
       "\n",
       "      2014.cost.avg_net_price.private  2014.cost.avg_net_price.public  \\\n",
       "4471                          16419.0                             NaN   \n",
       "4552                           8015.0                             NaN   \n",
       "\n",
       "      2015.cost.avg_net_price.private  2015.cost.avg_net_price.public  \\\n",
       "4471                          18181.0                             NaN   \n",
       "4552                           9763.0                             NaN   \n",
       "\n",
       "       ...     school.state school.state_fips school.title_iv.approval_date  \\\n",
       "4471   ...               IN                18                     1/13/2011   \n",
       "4552   ...               IL                17                     7/27/2011   \n",
       "\n",
       "     school.tuition_revenue_per_fte  school.under_investigation  \\\n",
       "4471                         9534.0                           0   \n",
       "4552                         2690.0                           0   \n",
       "\n",
       "      school.women_only  school.zip  private_cost public_cost     cost  \n",
       "4471                0.0  46227-6252       16723.0     14334.0  31057.0  \n",
       "4552                0.0  60628-2322        9004.0      6636.0  15640.0  \n",
       "\n",
       "[2 rows x 56 columns]"
      ]
     },
     "execution_count": 31,
     "metadata": {},
     "output_type": "execute_result"
    }
   ],
   "source": [
    "school_df.loc[(school_df['private_cost'] > 0)\\\n",
    "                   & (school_df['public_cost'] > 0),:]"
   ]
  },
  {
   "cell_type": "code",
   "execution_count": 32,
   "metadata": {
    "collapsed": true
   },
   "outputs": [],
   "source": [
    "school_df.loc[4471,'cost'] = 31057/2\n",
    "school_df.loc[4552, 'cost'] = 15640/2"
   ]
  },
  {
   "cell_type": "code",
   "execution_count": 33,
   "metadata": {},
   "outputs": [
    {
     "data": {
      "text/plain": [
       "count     6604.000000\n",
       "mean     15514.175972\n",
       "std       7586.988207\n",
       "min        151.400000\n",
       "25%       9386.750000\n",
       "50%      15093.400000\n",
       "75%      20544.550000\n",
       "max      89439.500000\n",
       "Name: cost, dtype: float64"
      ]
     },
     "execution_count": 33,
     "metadata": {},
     "output_type": "execute_result"
    }
   ],
   "source": [
    "school_df['cost'].describe()"
   ]
  },
  {
   "cell_type": "markdown",
   "metadata": {},
   "source": [
    "## Dropping colmuns\n",
    "### I will drop the yearly cost columns, except for cost. Although private cost and public cost might be useful, I can only recover them through ownership."
   ]
  },
  {
   "cell_type": "code",
   "execution_count": 34,
   "metadata": {},
   "outputs": [
    {
     "data": {
      "text/plain": [
       "(6604, 56)"
      ]
     },
     "execution_count": 34,
     "metadata": {},
     "output_type": "execute_result"
    }
   ],
   "source": [
    "school_df.shape"
   ]
  },
  {
   "cell_type": "code",
   "execution_count": 35,
   "metadata": {
    "collapsed": true
   },
   "outputs": [],
   "source": [
    "school_df.drop(cost_private, axis=1, inplace=True)\n",
    "school_df.drop(cost_public, axis=1, inplace=True)#cost_private"
   ]
  },
  {
   "cell_type": "code",
   "execution_count": 36,
   "metadata": {
    "collapsed": true
   },
   "outputs": [],
   "source": [
    "school_df.drop(['private_cost', 'public_cost'], axis=1, inplace=True)"
   ]
  },
  {
   "cell_type": "code",
   "execution_count": 37,
   "metadata": {
    "collapsed": true
   },
   "outputs": [],
   "source": [
    "##Getting rid of school thing in columns\n",
    "#new_columns = [c[7:] for c in school_df.columns if c not in do_not_touch else c]\n",
    "school_df.columns = [c[7:] if c.startswith('school') else c for c in school_df.columns]"
   ]
  },
  {
   "cell_type": "code",
   "execution_count": 38,
   "metadata": {},
   "outputs": [
    {
     "data": {
      "text/plain": [
       "Index(['id', 'accreditor', 'accreditor_code', 'alias', 'branches',\n",
       "       'carnegie_basic', 'carnegie_size_setting', 'carnegie_undergrad', 'city',\n",
       "       'degree_urbanization', 'degrees_awarded.highest',\n",
       "       'degrees_awarded.predominant', 'degrees_awarded.predominant_recoded',\n",
       "       'faculty_salary', 'ft_faculty_rate',\n",
       "       'institutional_characteristics.level',\n",
       "       'instructional_expenditure_per_fte', 'locale', 'main_campus',\n",
       "       'men_only', 'minority_serving.aanipi', 'minority_serving.annh',\n",
       "       'minority_serving.hispanic', 'minority_serving.historically_black',\n",
       "       'minority_serving.nant', 'minority_serving.predominantly_black',\n",
       "       'minority_serving.tribal', 'name', 'online_only',\n",
       "       'open_admissions_policy', 'operating', 'ownership',\n",
       "       'price_calculator_url', 'region_id', 'religious_affiliation',\n",
       "       'school_url', 'state', 'state_fips', 'title_iv.approval_date',\n",
       "       'tuition_revenue_per_fte', 'under_investigation', 'women_only', 'zip',\n",
       "       'cost'],\n",
       "      dtype='object')"
      ]
     },
     "execution_count": 38,
     "metadata": {},
     "output_type": "execute_result"
    }
   ],
   "source": [
    "school_df.columns"
   ]
  },
  {
   "cell_type": "markdown",
   "metadata": {},
   "source": [
    "## Analyzing nulls in columns"
   ]
  },
  {
   "cell_type": "code",
   "execution_count": 39,
   "metadata": {},
   "outputs": [
    {
     "data": {
      "text/plain": [
       "[id                                         0\n",
       " accreditor                               661\n",
       " accreditor_code                          661\n",
       " alias                                   4414\n",
       " branches                                   0\n",
       " carnegie_basic                             0\n",
       " carnegie_size_setting                      0\n",
       " carnegie_undergrad                         0\n",
       " city                                       0\n",
       " degree_urbanization                     6604\n",
       " degrees_awarded.highest                    0\n",
       " degrees_awarded.predominant                0\n",
       " degrees_awarded.predominant_recoded     6604\n",
       " faculty_salary                          2523\n",
       " ft_faculty_rate                         2981\n",
       " institutional_characteristics.level        0\n",
       " instructional_expenditure_per_fte          8\n",
       " locale                                     0\n",
       " main_campus                                0\n",
       " men_only                                   0\n",
       " minority_serving.aanipi                    0\n",
       " minority_serving.annh                      0\n",
       " minority_serving.hispanic                  0\n",
       " minority_serving.historically_black        0\n",
       " minority_serving.nant                      0\n",
       " minority_serving.predominantly_black       0\n",
       " minority_serving.tribal                    0\n",
       " name                                       0\n",
       " online_only                                0\n",
       " open_admissions_policy                    65\n",
       " operating                                  0\n",
       " ownership                                  0\n",
       " price_calculator_url                       0\n",
       " region_id                                  0\n",
       " religious_affiliation                   5835\n",
       " school_url                                 9\n",
       " state                                      0\n",
       " state_fips                                 0\n",
       " title_iv.approval_date                     9\n",
       " tuition_revenue_per_fte                    8\n",
       " under_investigation                        0\n",
       " women_only                                 0\n",
       " zip                                        0\n",
       " cost                                       0\n",
       " dtype: int64]"
      ]
     },
     "execution_count": 39,
     "metadata": {},
     "output_type": "execute_result"
    }
   ],
   "source": [
    "[school_df.isnull().sum()]"
   ]
  },
  {
   "cell_type": "markdown",
   "metadata": {},
   "source": [
    "## degrees_awarded.predominant_recoded and degree_urbanization\n",
    "\n",
    "### All nulls: i will drop them"
   ]
  },
  {
   "cell_type": "code",
   "execution_count": 40,
   "metadata": {
    "collapsed": true
   },
   "outputs": [],
   "source": [
    "school_df.drop(['degrees_awarded.predominant_recoded', 'degree_urbanization'], axis=1,inplace=True)"
   ]
  },
  {
   "cell_type": "markdown",
   "metadata": {},
   "source": [
    "## Religious affiliation\n",
    "### Must be an integer from -2 (not appliable), -1(not reported), different values from 22 to 103 for different affiliations"
   ]
  },
  {
   "cell_type": "code",
   "execution_count": 41,
   "metadata": {},
   "outputs": [
    {
     "data": {
      "text/html": [
       "<div>\n",
       "<style>\n",
       "    .dataframe thead tr:only-child th {\n",
       "        text-align: right;\n",
       "    }\n",
       "\n",
       "    .dataframe thead th {\n",
       "        text-align: left;\n",
       "    }\n",
       "\n",
       "    .dataframe tbody tr th {\n",
       "        vertical-align: top;\n",
       "    }\n",
       "</style>\n",
       "<table border=\"1\" class=\"dataframe\">\n",
       "  <thead>\n",
       "    <tr style=\"text-align: right;\">\n",
       "      <th></th>\n",
       "      <th>NAME OF DATA ELEMENT</th>\n",
       "      <th>dev-category</th>\n",
       "      <th>developer-friendly name</th>\n",
       "      <th>API data type</th>\n",
       "      <th>VARIABLE NAME</th>\n",
       "      <th>VALUE</th>\n",
       "      <th>LABEL</th>\n",
       "      <th>SOURCE</th>\n",
       "      <th>NOTES</th>\n",
       "    </tr>\n",
       "  </thead>\n",
       "  <tbody>\n",
       "    <tr>\n",
       "      <th>208</th>\n",
       "      <td>Religous affiliation of the institution</td>\n",
       "      <td>school</td>\n",
       "      <td>religious_affiliation</td>\n",
       "      <td>integer</td>\n",
       "      <td>RELAFFIL</td>\n",
       "      <td>-1.0</td>\n",
       "      <td>Not reported</td>\n",
       "      <td>IPEDS</td>\n",
       "      <td>Shown/used on consumer website.</td>\n",
       "    </tr>\n",
       "  </tbody>\n",
       "</table>\n",
       "</div>"
      ],
      "text/plain": [
       "                        NAME OF DATA ELEMENT dev-category  \\\n",
       "208  Religous affiliation of the institution       school   \n",
       "\n",
       "    developer-friendly name API data type VARIABLE NAME  VALUE         LABEL  \\\n",
       "208   religious_affiliation       integer      RELAFFIL   -1.0  Not reported   \n",
       "\n",
       "    SOURCE                            NOTES  \n",
       "208  IPEDS  Shown/used on consumer website.  "
      ]
     },
     "execution_count": 41,
     "metadata": {},
     "output_type": "execute_result"
    }
   ],
   "source": [
    "data_dict[(data_dict['dev-category'] == 'school') & (data_dict['developer-friendly name'] == 'religious_affiliation')]"
   ]
  },
  {
   "cell_type": "code",
   "execution_count": 42,
   "metadata": {},
   "outputs": [
    {
     "data": {
      "text/plain": [
       "768"
      ]
     },
     "execution_count": 42,
     "metadata": {},
     "output_type": "execute_result"
    }
   ],
   "source": [
    "school_df[(school_df['religious_affiliation']>=22) & (school_df['religious_affiliation'] <=103)].count()['cost']"
   ]
  },
  {
   "cell_type": "markdown",
   "metadata": {},
   "source": [
    "## It is my understanding that 768 values for affiliation in the dataset and the difference 5842 must be considered -1 or -2. I will assign value 1 to those that have affiliation and zero to the nulls"
   ]
  },
  {
   "cell_type": "code",
   "execution_count": 43,
   "metadata": {
    "collapsed": true
   },
   "outputs": [],
   "source": [
    "school_df['religious_affiliation'] = [1 if c >= 22 else 0 for c in school_df['religious_affiliation']]"
   ]
  },
  {
   "cell_type": "code",
   "execution_count": 44,
   "metadata": {},
   "outputs": [
    {
     "data": {
      "text/plain": [
       "0    5835\n",
       "1     769\n",
       "Name: religious_affiliation, dtype: int64"
      ]
     },
     "execution_count": 44,
     "metadata": {},
     "output_type": "execute_result"
    }
   ],
   "source": [
    "school_df['religious_affiliation'].value_counts()"
   ]
  },
  {
   "cell_type": "markdown",
   "metadata": {},
   "source": [
    "### Same thing: if they have alias 1 if not 0 that corresponds with nulls"
   ]
  },
  {
   "cell_type": "code",
   "execution_count": 46,
   "metadata": {
    "collapsed": true
   },
   "outputs": [],
   "source": [
    "school_df['alias'] = school_df['alias'].fillna(0)\n",
    "school_df['alias'] = [c if c == 0 else 1 for c in school_df['alias']]"
   ]
  },
  {
   "cell_type": "code",
   "execution_count": 47,
   "metadata": {},
   "outputs": [
    {
     "data": {
      "text/plain": [
       "0    4414\n",
       "1    2190\n",
       "Name: alias, dtype: int64"
      ]
     },
     "execution_count": 47,
     "metadata": {},
     "output_type": "execute_result"
    }
   ],
   "source": [
    "school_df['alias'].value_counts()"
   ]
  },
  {
   "cell_type": "markdown",
   "metadata": {},
   "source": [
    "## Faculty_salary and faculty_rate\n",
    "### Salary per month for full time employees (faculty_salary)\n",
    "### average of full time employees over total (ft_salry_rate) 0-1\n",
    "### I will fill them up with the mean. This way I will also have the info about who they are"
   ]
  },
  {
   "cell_type": "code",
   "execution_count": 48,
   "metadata": {},
   "outputs": [
    {
     "data": {
      "text/html": [
       "<div>\n",
       "<style>\n",
       "    .dataframe thead tr:only-child th {\n",
       "        text-align: right;\n",
       "    }\n",
       "\n",
       "    .dataframe thead th {\n",
       "        text-align: left;\n",
       "    }\n",
       "\n",
       "    .dataframe tbody tr th {\n",
       "        vertical-align: top;\n",
       "    }\n",
       "</style>\n",
       "<table border=\"1\" class=\"dataframe\">\n",
       "  <thead>\n",
       "    <tr style=\"text-align: right;\">\n",
       "      <th></th>\n",
       "      <th>ft_faculty_rate</th>\n",
       "      <th>faculty_salary</th>\n",
       "    </tr>\n",
       "  </thead>\n",
       "  <tbody>\n",
       "    <tr>\n",
       "      <th>count</th>\n",
       "      <td>3623.000000</td>\n",
       "      <td>4081.000000</td>\n",
       "    </tr>\n",
       "    <tr>\n",
       "      <th>mean</th>\n",
       "      <td>0.564079</td>\n",
       "      <td>6235.119579</td>\n",
       "    </tr>\n",
       "    <tr>\n",
       "      <th>std</th>\n",
       "      <td>0.300233</td>\n",
       "      <td>2270.812471</td>\n",
       "    </tr>\n",
       "    <tr>\n",
       "      <th>min</th>\n",
       "      <td>0.000000</td>\n",
       "      <td>361.000000</td>\n",
       "    </tr>\n",
       "    <tr>\n",
       "      <th>25%</th>\n",
       "      <td>0.306850</td>\n",
       "      <td>4718.000000</td>\n",
       "    </tr>\n",
       "    <tr>\n",
       "      <th>50%</th>\n",
       "      <td>0.533300</td>\n",
       "      <td>6015.000000</td>\n",
       "    </tr>\n",
       "    <tr>\n",
       "      <th>75%</th>\n",
       "      <td>0.845450</td>\n",
       "      <td>7533.000000</td>\n",
       "    </tr>\n",
       "    <tr>\n",
       "      <th>max</th>\n",
       "      <td>1.000000</td>\n",
       "      <td>21354.000000</td>\n",
       "    </tr>\n",
       "  </tbody>\n",
       "</table>\n",
       "</div>"
      ],
      "text/plain": [
       "       ft_faculty_rate  faculty_salary\n",
       "count      3623.000000     4081.000000\n",
       "mean          0.564079     6235.119579\n",
       "std           0.300233     2270.812471\n",
       "min           0.000000      361.000000\n",
       "25%           0.306850     4718.000000\n",
       "50%           0.533300     6015.000000\n",
       "75%           0.845450     7533.000000\n",
       "max           1.000000    21354.000000"
      ]
     },
     "execution_count": 48,
     "metadata": {},
     "output_type": "execute_result"
    }
   ],
   "source": [
    "\n",
    "#Whatever it is it will not be useful for me\n",
    "school_df[['ft_faculty_rate', 'faculty_salary']].describe()"
   ]
  },
  {
   "cell_type": "code",
   "execution_count": 49,
   "metadata": {
    "collapsed": true
   },
   "outputs": [],
   "source": [
    "salary_mean = school_df['faculty_salary'].mean()\n",
    "faculty_rate_mean = school_df['ft_faculty_rate'].mean()\n",
    "school_df['ft_faculty_rate'] = school_df['ft_faculty_rate'].fillna(faculty_rate_mean)\n",
    "school_df['faculty_salary'] = school_df['faculty_salary'].fillna(salary_mean)"
   ]
  },
  {
   "cell_type": "markdown",
   "metadata": {},
   "source": [
    "## Accreditor and accreditor_code\n",
    "### Accreditor and its code. it has sense that when one is null the other one too\n",
    "### I will keep [accreditor] for now to eliminate it later with a bunch of others"
   ]
  },
  {
   "cell_type": "code",
   "execution_count": 50,
   "metadata": {},
   "outputs": [
    {
     "data": {
      "text/html": [
       "<div>\n",
       "<style>\n",
       "    .dataframe thead tr:only-child th {\n",
       "        text-align: right;\n",
       "    }\n",
       "\n",
       "    .dataframe thead th {\n",
       "        text-align: left;\n",
       "    }\n",
       "\n",
       "    .dataframe tbody tr th {\n",
       "        vertical-align: top;\n",
       "    }\n",
       "</style>\n",
       "<table border=\"1\" class=\"dataframe\">\n",
       "  <thead>\n",
       "    <tr style=\"text-align: right;\">\n",
       "      <th></th>\n",
       "      <th>accreditor_code</th>\n",
       "      <th>accreditor</th>\n",
       "    </tr>\n",
       "  </thead>\n",
       "  <tbody>\n",
       "    <tr>\n",
       "      <th>0</th>\n",
       "      <td>NaN</td>\n",
       "      <td>NaN</td>\n",
       "    </tr>\n",
       "    <tr>\n",
       "      <th>2</th>\n",
       "      <td>ABHE</td>\n",
       "      <td>Association for Bibical Higher Educaiton</td>\n",
       "    </tr>\n",
       "    <tr>\n",
       "      <th>4</th>\n",
       "      <td>ACICS</td>\n",
       "      <td>Accrediting Council for Independent Colleges a...</td>\n",
       "    </tr>\n",
       "    <tr>\n",
       "      <th>5</th>\n",
       "      <td>ACCSC</td>\n",
       "      <td>Accrediting Commission of Career Schools and C...</td>\n",
       "    </tr>\n",
       "    <tr>\n",
       "      <th>6</th>\n",
       "      <td>ACCSC</td>\n",
       "      <td>Accrediting Commission of Career Schools and C...</td>\n",
       "    </tr>\n",
       "  </tbody>\n",
       "</table>\n",
       "</div>"
      ],
      "text/plain": [
       "  accreditor_code                                         accreditor\n",
       "0             NaN                                                NaN\n",
       "2            ABHE           Association for Bibical Higher Educaiton\n",
       "4           ACICS  Accrediting Council for Independent Colleges a...\n",
       "5           ACCSC  Accrediting Commission of Career Schools and C...\n",
       "6           ACCSC  Accrediting Commission of Career Schools and C..."
      ]
     },
     "execution_count": 50,
     "metadata": {},
     "output_type": "execute_result"
    }
   ],
   "source": [
    "school_df[['accreditor_code', 'accreditor']].head()"
   ]
  },
  {
   "cell_type": "code",
   "execution_count": 51,
   "metadata": {
    "collapsed": true
   },
   "outputs": [],
   "source": [
    "###I will added a new accreditor code AAAA that will stand for those who have none or it is not available\n",
    "school_df['accreditor_code'].unique()\n",
    "school_df['accreditor_code'] = school_df['accreditor_code'].fillna('AAAA')"
   ]
  },
  {
   "cell_type": "markdown",
   "metadata": {},
   "source": [
    "## Open admissions policy\n",
    "### 1 is for yes, 2 is for no and 3 for no first-time students\n",
    "### I am going to assume that nulls belong to 3 as there are no 3 in the dataset. It is also no too much relevant being only 65 of them"
   ]
  },
  {
   "cell_type": "code",
   "execution_count": 52,
   "metadata": {
    "collapsed": true
   },
   "outputs": [],
   "source": [
    "school_df['open_admissions_policy'] = school_df['open_admissions_policy'].fillna(3)"
   ]
  },
  {
   "cell_type": "markdown",
   "metadata": {},
   "source": [
    "## Last ones\n",
    "### school_url: I will drop column (with accreditor)\n",
    "### instructional_expenditure_per_fte, tuition_revenue_per_fte and titleiv... I will fill na with mean"
   ]
  },
  {
   "cell_type": "code",
   "execution_count": 53,
   "metadata": {
    "collapsed": true
   },
   "outputs": [],
   "source": [
    "ultims = ['school_url', 'tuition_revenue_per_fte', 'title_iv.approval_date']"
   ]
  },
  {
   "cell_type": "code",
   "execution_count": 54,
   "metadata": {
    "collapsed": true
   },
   "outputs": [],
   "source": [
    "school_df.drop(['school_url', 'accreditor'], axis=1, inplace=True)"
   ]
  },
  {
   "cell_type": "code",
   "execution_count": 55,
   "metadata": {
    "collapsed": true
   },
   "outputs": [],
   "source": [
    "mean_fte = school_df['tuition_revenue_per_fte'].mean()\n",
    "school_df['tuition_revenue_per_fte'] = school_df['tuition_revenue_per_fte'].fillna(mean_fte)"
   ]
  },
  {
   "cell_type": "code",
   "execution_count": 56,
   "metadata": {
    "collapsed": true
   },
   "outputs": [],
   "source": [
    "school_df['title_iv.approval_date'].dtypes\n",
    "school_df['title_iv.approval_date'] = pd.to_datetime(school_df['title_iv.approval_date'])"
   ]
  },
  {
   "cell_type": "code",
   "execution_count": 57,
   "metadata": {},
   "outputs": [
    {
     "name": "stdout",
     "output_type": "stream",
     "text": [
      "2015-11-09 00:00:00\n",
      "1965-01-01 00:00:00\n"
     ]
    }
   ],
   "source": [
    "from datetime import date, datetime, timedelta\n",
    "print(school_df['title_iv.approval_date'].max())\n",
    "print(school_df['title_iv.approval_date'].min())"
   ]
  },
  {
   "cell_type": "code",
   "execution_count": 58,
   "metadata": {},
   "outputs": [
    {
     "data": {
      "text/plain": [
       "datetime.datetime(1990, 6, 6, 0, 0)"
      ]
     },
     "execution_count": 58,
     "metadata": {},
     "output_type": "execute_result"
    }
   ],
   "source": [
    "first_day = datetime(1965, 1, 1)\n",
    "final_day = datetime(2015, 11, 9)\n",
    "diff = final_day - first_day\n",
    "mean_day = first_day + diff/2\n",
    "mean_day"
   ]
  },
  {
   "cell_type": "code",
   "execution_count": 59,
   "metadata": {
    "collapsed": true
   },
   "outputs": [],
   "source": [
    "school_df['title_iv.approval_date'] = school_df['title_iv.approval_date'].fillna(mean_day)"
   ]
  },
  {
   "cell_type": "code",
   "execution_count": 60,
   "metadata": {
    "collapsed": true
   },
   "outputs": [],
   "source": [
    "base_date = datetime(1965, 1, 1)\n",
    "school_df['seniority'] = school_df['title_iv.approval_date']- base_date\n",
    "#school_df['seniority'] = (school_df['seniority'].astype(int))\n",
    "school_df['seniority'] = school_df['seniority'].dt.days"
   ]
  },
  {
   "cell_type": "code",
   "execution_count": 61,
   "metadata": {
    "collapsed": true
   },
   "outputs": [],
   "source": [
    "expend_mean = school_df['instructional_expenditure_per_fte'].mean()\n",
    "school_df['instructional_expenditure_per_fte'] = school_df['instructional_expenditure_per_fte'].fillna(expend_mean)"
   ]
  },
  {
   "cell_type": "code",
   "execution_count": 62,
   "metadata": {},
   "outputs": [
    {
     "data": {
      "text/plain": [
       "0"
      ]
     },
     "execution_count": 62,
     "metadata": {},
     "output_type": "execute_result"
    }
   ],
   "source": [
    "school_df.isnull().sum().sum()"
   ]
  },
  {
   "cell_type": "markdown",
   "metadata": {},
   "source": [
    "# Separating columns by dtypes: Object columns and numerical columns"
   ]
  },
  {
   "cell_type": "code",
   "execution_count": 63,
   "metadata": {},
   "outputs": [
    {
     "data": {
      "text/plain": [
       "(6604, 41)"
      ]
     },
     "execution_count": 63,
     "metadata": {},
     "output_type": "execute_result"
    }
   ],
   "source": [
    "school_df.shape"
   ]
  },
  {
   "cell_type": "code",
   "execution_count": 64,
   "metadata": {},
   "outputs": [
    {
     "data": {
      "text/plain": [
       "6"
      ]
     },
     "execution_count": 64,
     "metadata": {},
     "output_type": "execute_result"
    }
   ],
   "source": [
    "ob_columns = school_df.select_dtypes(include=['object']).columns\n",
    "len(ob_columns)"
   ]
  },
  {
   "cell_type": "code",
   "execution_count": 65,
   "metadata": {},
   "outputs": [
    {
     "data": {
      "text/plain": [
       "35"
      ]
     },
     "execution_count": 65,
     "metadata": {},
     "output_type": "execute_result"
    }
   ],
   "source": [
    "num_columns = school_df.select_dtypes(exclude=['object']).columns\n",
    "len(num_columns)"
   ]
  },
  {
   "cell_type": "markdown",
   "metadata": {},
   "source": [
    "# Of all object columns I will only use accreditor_code. I will get dummies out of it\n",
    "## The other ones give an information already contained in the numeric columns:\n",
    "## state_fips and region-id play the role of zip and state\n",
    "## id is as good as name\n",
    "## price calculator url I consider it irrelevant"
   ]
  },
  {
   "cell_type": "code",
   "execution_count": 66,
   "metadata": {},
   "outputs": [
    {
     "data": {
      "text/html": [
       "<div>\n",
       "<style>\n",
       "    .dataframe thead tr:only-child th {\n",
       "        text-align: right;\n",
       "    }\n",
       "\n",
       "    .dataframe thead th {\n",
       "        text-align: left;\n",
       "    }\n",
       "\n",
       "    .dataframe tbody tr th {\n",
       "        vertical-align: top;\n",
       "    }\n",
       "</style>\n",
       "<table border=\"1\" class=\"dataframe\">\n",
       "  <thead>\n",
       "    <tr style=\"text-align: right;\">\n",
       "      <th></th>\n",
       "      <th>accreditor_code</th>\n",
       "      <th>city</th>\n",
       "      <th>name</th>\n",
       "      <th>price_calculator_url</th>\n",
       "      <th>state</th>\n",
       "      <th>zip</th>\n",
       "    </tr>\n",
       "  </thead>\n",
       "  <tbody>\n",
       "    <tr>\n",
       "      <th>0</th>\n",
       "      <td>AAAA</td>\n",
       "      <td>Akron</td>\n",
       "      <td>National Institute of Massotherapy</td>\n",
       "      <td>www.nim.edu/NetPrice/npcalc.htm</td>\n",
       "      <td>OH</td>\n",
       "      <td>44319-2100</td>\n",
       "    </tr>\n",
       "    <tr>\n",
       "      <th>2</th>\n",
       "      <td>ABHE</td>\n",
       "      <td>Shawnee</td>\n",
       "      <td>Family of Faith Christian University</td>\n",
       "      <td>familyoffaith.edu/netprice/npcalc.htm</td>\n",
       "      <td>OK</td>\n",
       "      <td>74802</td>\n",
       "    </tr>\n",
       "    <tr>\n",
       "      <th>4</th>\n",
       "      <td>ACICS</td>\n",
       "      <td>Iselin</td>\n",
       "      <td>PC AGE-Metropark</td>\n",
       "      <td>pcage.edu/calculator/npcalc.htm</td>\n",
       "      <td>NJ</td>\n",
       "      <td>08830</td>\n",
       "    </tr>\n",
       "    <tr>\n",
       "      <th>5</th>\n",
       "      <td>ACCSC</td>\n",
       "      <td>Miami</td>\n",
       "      <td>South Florida Institute of Technology</td>\n",
       "      <td>www.sf-institute.com/netprice/npcalc.htm</td>\n",
       "      <td>FL</td>\n",
       "      <td>33125</td>\n",
       "    </tr>\n",
       "    <tr>\n",
       "      <th>6</th>\n",
       "      <td>ACCSC</td>\n",
       "      <td>North Charleston</td>\n",
       "      <td>Southeastern Institute-Charleston</td>\n",
       "      <td>www.southeasterninstitute.edu/financial_aid.html</td>\n",
       "      <td>SC</td>\n",
       "      <td>29406</td>\n",
       "    </tr>\n",
       "  </tbody>\n",
       "</table>\n",
       "</div>"
      ],
      "text/plain": [
       "  accreditor_code              city                                   name  \\\n",
       "0            AAAA             Akron     National Institute of Massotherapy   \n",
       "2            ABHE           Shawnee   Family of Faith Christian University   \n",
       "4           ACICS            Iselin                       PC AGE-Metropark   \n",
       "5           ACCSC             Miami  South Florida Institute of Technology   \n",
       "6           ACCSC  North Charleston      Southeastern Institute-Charleston   \n",
       "\n",
       "                               price_calculator_url state         zip  \n",
       "0                   www.nim.edu/NetPrice/npcalc.htm    OH  44319-2100  \n",
       "2             familyoffaith.edu/netprice/npcalc.htm    OK       74802  \n",
       "4                   pcage.edu/calculator/npcalc.htm    NJ       08830  \n",
       "5          www.sf-institute.com/netprice/npcalc.htm    FL       33125  \n",
       "6  www.southeasterninstitute.edu/financial_aid.html    SC       29406  "
      ]
     },
     "execution_count": 66,
     "metadata": {},
     "output_type": "execute_result"
    }
   ],
   "source": [
    "school_df[ob_columns].head()"
   ]
  },
  {
   "cell_type": "code",
   "execution_count": 67,
   "metadata": {},
   "outputs": [
    {
     "data": {
      "text/plain": [
       "id                                               int64\n",
       "alias                                            int64\n",
       "branches                                         int64\n",
       "carnegie_basic                                 float64\n",
       "carnegie_size_setting                          float64\n",
       "carnegie_undergrad                             float64\n",
       "degrees_awarded.highest                          int64\n",
       "degrees_awarded.predominant                      int64\n",
       "faculty_salary                                 float64\n",
       "ft_faculty_rate                                float64\n",
       "institutional_characteristics.level              int64\n",
       "instructional_expenditure_per_fte              float64\n",
       "locale                                         float64\n",
       "main_campus                                      int64\n",
       "men_only                                       float64\n",
       "minority_serving.aanipi                        float64\n",
       "minority_serving.annh                          float64\n",
       "minority_serving.hispanic                      float64\n",
       "minority_serving.historically_black            float64\n",
       "minority_serving.nant                          float64\n",
       "minority_serving.predominantly_black           float64\n",
       "minority_serving.tribal                        float64\n",
       "online_only                                    float64\n",
       "open_admissions_policy                         float64\n",
       "operating                                        int64\n",
       "ownership                                        int64\n",
       "region_id                                        int64\n",
       "religious_affiliation                            int64\n",
       "state_fips                                       int64\n",
       "title_iv.approval_date                  datetime64[ns]\n",
       "tuition_revenue_per_fte                        float64\n",
       "under_investigation                              int64\n",
       "women_only                                     float64\n",
       "cost                                           float64\n",
       "seniority                                        int64\n",
       "dtype: object"
      ]
     },
     "execution_count": 67,
     "metadata": {},
     "output_type": "execute_result"
    }
   ],
   "source": [
    "school_df[num_columns].dtypes"
   ]
  },
  {
   "cell_type": "code",
   "execution_count": 68,
   "metadata": {
    "collapsed": true
   },
   "outputs": [],
   "source": [
    "school_df.loc[school_df['locale'] == -3, ['locale']] = 51\n",
    "##This weird values corresponds to the marsahall islands and palau, etc.\n",
    "##As the code of locale goes from smaller(big city to bigger more assolation\n",
    "## I will assign them the next one 51"
   ]
  },
  {
   "cell_type": "code",
   "execution_count": 69,
   "metadata": {},
   "outputs": [
    {
     "data": {
      "text/plain": [
       "35"
      ]
     },
     "execution_count": 69,
     "metadata": {},
     "output_type": "execute_result"
    }
   ],
   "source": [
    "len(school_df['accreditor_code'].unique())"
   ]
  },
  {
   "cell_type": "code",
   "execution_count": 70,
   "metadata": {},
   "outputs": [
    {
     "name": "stdout",
     "output_type": "stream",
     "text": [
      "(6604, 35)\n",
      "(6604, 35)\n"
     ]
    }
   ],
   "source": [
    "print((pd.get_dummies(school_df['accreditor_code'])).shape)\n",
    "print(school_df[num_columns].shape)"
   ]
  },
  {
   "cell_type": "code",
   "execution_count": 104,
   "metadata": {},
   "outputs": [],
   "source": [
    "final_dataframe = pd.DataFrame()"
   ]
  },
  {
   "cell_type": "code",
   "execution_count": 105,
   "metadata": {
    "collapsed": true
   },
   "outputs": [],
   "source": [
    "final_dataframe = pd.concat([school_df[num_columns], pd.get_dummies(school_df['accreditor_code'])], axis=1)"
   ]
  },
  {
   "cell_type": "markdown",
   "metadata": {},
   "source": [
    "## Finally, I will erase columns that are directly related to the target.\n",
    "    ### Tuition revenue for full time employee"
   ]
  },
  {
   "cell_type": "code",
   "execution_count": 106,
   "metadata": {},
   "outputs": [],
   "source": [
    "final_dataframe.drop('tuition_revenue_per_fte', axis=1, inplace=True)"
   ]
  },
  {
   "cell_type": "code",
   "execution_count": 107,
   "metadata": {},
   "outputs": [
    {
     "data": {
      "text/plain": [
       "Index(['id', 'alias', 'branches', 'carnegie_basic', 'carnegie_size_setting',\n",
       "       'carnegie_undergrad', 'degrees_awarded.highest',\n",
       "       'degrees_awarded.predominant', 'faculty_salary', 'ft_faculty_rate',\n",
       "       'institutional_characteristics.level',\n",
       "       'instructional_expenditure_per_fte', 'locale', 'main_campus',\n",
       "       'men_only', 'minority_serving.aanipi', 'minority_serving.annh',\n",
       "       'minority_serving.hispanic', 'minority_serving.historically_black',\n",
       "       'minority_serving.nant', 'minority_serving.predominantly_black',\n",
       "       'minority_serving.tribal', 'online_only', 'open_admissions_policy',\n",
       "       'operating', 'ownership', 'region_id', 'religious_affiliation',\n",
       "       'state_fips', 'title_iv.approval_date', 'tuition_revenue_per_fte',\n",
       "       'under_investigation', 'women_only', 'cost', 'seniority'],\n",
       "      dtype='object')"
      ]
     },
     "execution_count": 107,
     "metadata": {},
     "output_type": "execute_result"
    }
   ],
   "source": [
    "num_columns"
   ]
  },
  {
   "cell_type": "code",
   "execution_count": 108,
   "metadata": {},
   "outputs": [
    {
     "name": "stdout",
     "output_type": "stream",
     "text": [
      "116\n",
      "(6604, 69)\n"
     ]
    }
   ],
   "source": [
    "list_of_dummies = ['carnegie_basic', 'locale', 'region_id', 'state_fips']\n",
    "z = 0\n",
    "for item in list_of_dummies:\n",
    "    x = len(school_df[item].unique())\n",
    "    z = z + x\n",
    "print(z)\n",
    "print(final_dataframe.shape)"
   ]
  },
  {
   "cell_type": "code",
   "execution_count": 109,
   "metadata": {},
   "outputs": [
    {
     "name": "stdout",
     "output_type": "stream",
     "text": [
      "(6604, 185)\n"
     ]
    }
   ],
   "source": [
    "for item in list_of_dummies:\n",
    "    nova = pd.get_dummies(school_df[item], prefix=item)\n",
    "    final_dataframe = pd.concat([final_dataframe, nova], axis=1)\n",
    "print(final_dataframe.shape)"
   ]
  },
  {
   "cell_type": "code",
   "execution_count": 110,
   "metadata": {
    "collapsed": true
   },
   "outputs": [],
   "source": [
    "final_dataframe.to_csv('df_final.csv', index=False, encoding='utf-8')"
   ]
  },
  {
   "cell_type": "code",
   "execution_count": 100,
   "metadata": {},
   "outputs": [
    {
     "name": "stdout",
     "output_type": "stream",
     "text": [
      "[ 10.  24.  -3.  26.  23.  19.  14.   2.  20.  30.  13.  22.  29.  21.  18.\n",
      "   7.  28.   9.  33.   4.  11.   5.   1.  25.  15.   3.  17.   6.  16.  12.\n",
      "  32.   8.  31.  27.]\n",
      "[ 21.  42.  11.  13.  22.  12.  41.  23.  31.  33.  32.  43.  51.]\n",
      "[3 6 2 5 8 1 4 9 7 0]\n",
      "[39 40 34 12 45  6 47  9 44 25 42 27 72 35 41 48 36 24  1 51  8 17 26 37 50\n",
      "  4 31  5 18 21 29 54 49 46 23 22 13 53 20 32 55 16 11 30 28  2 33 15 19 56\n",
      " 10 38 78 64 66 69 70 60 68]\n"
     ]
    }
   ],
   "source": [
    "for item in list_of_dummies:\n",
    "    print(school_df[item].unique())"
   ]
  },
  {
   "cell_type": "code",
   "execution_count": null,
   "metadata": {
    "collapsed": true
   },
   "outputs": [],
   "source": []
  }
 ],
 "metadata": {
  "kernelspec": {
   "display_name": "Python 3",
   "language": "python",
   "name": "python3"
  },
  "language_info": {
   "codemirror_mode": {
    "name": "ipython",
    "version": 3
   },
   "file_extension": ".py",
   "mimetype": "text/x-python",
   "name": "python",
   "nbconvert_exporter": "python",
   "pygments_lexer": "ipython3",
   "version": "3.6.1"
  }
 },
 "nbformat": 4,
 "nbformat_minor": 2
}
